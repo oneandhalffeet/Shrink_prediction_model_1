{
 "cells": [
  {
   "cell_type": "code",
   "execution_count": 1,
   "metadata": {},
   "outputs": [],
   "source": [
    "import pandas as pd\n",
    "import seaborn as sns"
   ]
  },
  {
   "cell_type": "code",
   "execution_count": 2,
   "metadata": {},
   "outputs": [],
   "source": [
    "df = pd.read_csv('STRETCH BOIL-OFF 100% COTTON_single weft_single warp_1.csv')"
   ]
  },
  {
   "cell_type": "code",
   "execution_count": 3,
   "metadata": {},
   "outputs": [
    {
     "data": {
      "text/html": [
       "<div>\n",
       "<style scoped>\n",
       "    .dataframe tbody tr th:only-of-type {\n",
       "        vertical-align: middle;\n",
       "    }\n",
       "\n",
       "    .dataframe tbody tr th {\n",
       "        vertical-align: top;\n",
       "    }\n",
       "\n",
       "    .dataframe thead th {\n",
       "        text-align: right;\n",
       "    }\n",
       "</style>\n",
       "<table border=\"1\" class=\"dataframe\">\n",
       "  <thead>\n",
       "    <tr style=\"text-align: right;\">\n",
       "      <th></th>\n",
       "      <th>WARP count (Ne) (Blend:100% Cotton)</th>\n",
       "      <th>WEFT count (Ne) (Blend:Cotton/SPDX)</th>\n",
       "      <th>Spandex(Denier) in Weft core</th>\n",
       "      <th>Greige Ends / Inch</th>\n",
       "      <th>Greige Picks/Inch</th>\n",
       "      <th>WEAVE</th>\n",
       "      <th>Greige Width</th>\n",
       "      <th>BOIL-OFF Width</th>\n",
       "    </tr>\n",
       "  </thead>\n",
       "  <tbody>\n",
       "    <tr>\n",
       "      <th>0</th>\n",
       "      <td>10</td>\n",
       "      <td>10</td>\n",
       "      <td>105</td>\n",
       "      <td>62</td>\n",
       "      <td>54</td>\n",
       "      <td>3/1 Z TWILL</td>\n",
       "      <td>194.0</td>\n",
       "      <td>147.0</td>\n",
       "    </tr>\n",
       "    <tr>\n",
       "      <th>1</th>\n",
       "      <td>10</td>\n",
       "      <td>10</td>\n",
       "      <td>70</td>\n",
       "      <td>66</td>\n",
       "      <td>40</td>\n",
       "      <td>OXFORD</td>\n",
       "      <td>170.0</td>\n",
       "      <td>141.5</td>\n",
       "    </tr>\n",
       "    <tr>\n",
       "      <th>2</th>\n",
       "      <td>10</td>\n",
       "      <td>10</td>\n",
       "      <td>70</td>\n",
       "      <td>66</td>\n",
       "      <td>44</td>\n",
       "      <td>3/1 S TWILL</td>\n",
       "      <td>193.5</td>\n",
       "      <td>138.0</td>\n",
       "    </tr>\n",
       "    <tr>\n",
       "      <th>3</th>\n",
       "      <td>10</td>\n",
       "      <td>10</td>\n",
       "      <td>70</td>\n",
       "      <td>66</td>\n",
       "      <td>44</td>\n",
       "      <td>3/1 S TWILL</td>\n",
       "      <td>193.0</td>\n",
       "      <td>144.0</td>\n",
       "    </tr>\n",
       "    <tr>\n",
       "      <th>4</th>\n",
       "      <td>10</td>\n",
       "      <td>10</td>\n",
       "      <td>70</td>\n",
       "      <td>66</td>\n",
       "      <td>50</td>\n",
       "      <td>2/1 HBT</td>\n",
       "      <td>174.5</td>\n",
       "      <td>139.5</td>\n",
       "    </tr>\n",
       "  </tbody>\n",
       "</table>\n",
       "</div>"
      ],
      "text/plain": [
       "   WARP count (Ne) (Blend:100% Cotton)  WEFT count (Ne) (Blend:Cotton/SPDX)  \\\n",
       "0                                   10                                   10   \n",
       "1                                   10                                   10   \n",
       "2                                   10                                   10   \n",
       "3                                   10                                   10   \n",
       "4                                   10                                   10   \n",
       "\n",
       "   Spandex(Denier) in Weft core  Greige Ends / Inch  Greige Picks/Inch  \\\n",
       "0                           105                  62                 54   \n",
       "1                            70                  66                 40   \n",
       "2                            70                  66                 44   \n",
       "3                            70                  66                 44   \n",
       "4                            70                  66                 50   \n",
       "\n",
       "         WEAVE  Greige Width  BOIL-OFF Width  \n",
       "0  3/1 Z TWILL         194.0           147.0  \n",
       "1       OXFORD         170.0           141.5  \n",
       "2  3/1 S TWILL         193.5           138.0  \n",
       "3  3/1 S TWILL         193.0           144.0  \n",
       "4      2/1 HBT         174.5           139.5  "
      ]
     },
     "execution_count": 3,
     "metadata": {},
     "output_type": "execute_result"
    }
   ],
   "source": [
    "df.head()"
   ]
  },
  {
   "cell_type": "code",
   "execution_count": 4,
   "metadata": {},
   "outputs": [
    {
     "data": {
      "text/plain": [
       "(1255, 8)"
      ]
     },
     "execution_count": 4,
     "metadata": {},
     "output_type": "execute_result"
    }
   ],
   "source": [
    "df.shape"
   ]
  },
  {
   "cell_type": "code",
   "execution_count": 5,
   "metadata": {},
   "outputs": [
    {
     "name": "stdout",
     "output_type": "stream",
     "text": [
      "['3/1 Z TWILL' 'OXFORD' '3/1 S TWILL' '2/1 HBT' '2/2 S TWILL'\n",
      " '2/1 S TWILL' '2/2 MATT' '2/2 BKT' '3/1 BKT' '3/1 HBT' '2/2 HBT' 'PLAIN'\n",
      " '4/1 S SATIN' '2/2 Z TWILL' '3/2 S TWILL' '4/1 S TWILL' '2/1 Z TWILL'\n",
      " '4/1 Z TWILL' '3/3 S TWILL' 'ROYAL OXFORD' '3/2 MATT' '1/4 S SATIN']\n"
     ]
    }
   ],
   "source": [
    "## getting all weave designs in our data\n",
    "print(df['WEAVE'].unique())"
   ]
  },
  {
   "cell_type": "code",
   "execution_count": 6,
   "metadata": {},
   "outputs": [],
   "source": [
    "##Adding weave factors of similar M1 and M2\n",
    "WEAVE = {'3/1 Z TWILL': 1.6, 'OXFORD' : 2, '3/1 S TWILL': 1.6, '2/1 HBT': 1.46, \n",
    "        '2/2 S TWILL': 1.6, '2/1 S TWILL': 1.38, '2/2 MATT': 2, '2/2 BKT': 1.33,\n",
    "        '3/1 BKT': 1.6, '3/1 HBT': 1.91, '2/2 HBT': 1.809, 'PLAIN': 1, '4/1 S SATIN': 1.92,\n",
    "        '2/2 Z TWILL': 1.6, '3/2 S TWILL': 1.92, '4/1 S TWILL': 1.92, '2/1 Z TWILL': 1.38,\n",
    "        '4/1 Z TWILL': 1.92, '3/3 S TWILL': 2.25, 'ROYAL OXFORD': 1.71, '3/2 MATT': 3, '1/4 S SATIN': 1.92}\n",
    "df.WEAVE = [WEAVE[item] for item in df.WEAVE]"
   ]
  },
  {
   "cell_type": "code",
   "execution_count": null,
   "metadata": {},
   "outputs": [],
   "source": []
  },
  {
   "cell_type": "code",
   "execution_count": 7,
   "metadata": {},
   "outputs": [],
   "source": [
    "df['M1'] = df['WEAVE']\n",
    "df['M2'] = df['WEAVE']"
   ]
  },
  {
   "cell_type": "code",
   "execution_count": 8,
   "metadata": {},
   "outputs": [],
   "source": [
    "M2 = {1.6 : 1.6, 2 : 1, 1.6 : 1.6, 1.46 : 1.28, \n",
    "        1.6 : 1.6, 1.38 : 1.28, 2 : 2, 1.33 : 1.6,\n",
    "        1.6 : 1.6, 1.91 : 1.57, 1.809 : 1.58, 1: 1, 1.92 : 1.92,\n",
    "        1.6 : 1.6, 1.92 : 1.92, 1.92 : 1.92, 1.38 : 1.2,\n",
    "        1.92 : 1.92, 2.25 : 2.25, 1.71: 1.8, 3 : 2, 1.92 : 1.92}\n",
    "df.M2 = [M2[item] for item in df.M2]"
   ]
  },
  {
   "cell_type": "code",
   "execution_count": 9,
   "metadata": {},
   "outputs": [
    {
     "data": {
      "text/html": [
       "<div>\n",
       "<style scoped>\n",
       "    .dataframe tbody tr th:only-of-type {\n",
       "        vertical-align: middle;\n",
       "    }\n",
       "\n",
       "    .dataframe tbody tr th {\n",
       "        vertical-align: top;\n",
       "    }\n",
       "\n",
       "    .dataframe thead th {\n",
       "        text-align: right;\n",
       "    }\n",
       "</style>\n",
       "<table border=\"1\" class=\"dataframe\">\n",
       "  <thead>\n",
       "    <tr style=\"text-align: right;\">\n",
       "      <th></th>\n",
       "      <th>WARP count (Ne) (Blend:100% Cotton)</th>\n",
       "      <th>WEFT count (Ne) (Blend:Cotton/SPDX)</th>\n",
       "      <th>Spandex(Denier) in Weft core</th>\n",
       "      <th>Greige Ends / Inch</th>\n",
       "      <th>Greige Picks/Inch</th>\n",
       "      <th>WEAVE</th>\n",
       "      <th>Greige Width</th>\n",
       "      <th>BOIL-OFF Width</th>\n",
       "      <th>M1</th>\n",
       "      <th>M2</th>\n",
       "    </tr>\n",
       "  </thead>\n",
       "  <tbody>\n",
       "    <tr>\n",
       "      <th>0</th>\n",
       "      <td>10</td>\n",
       "      <td>10</td>\n",
       "      <td>105</td>\n",
       "      <td>62</td>\n",
       "      <td>54</td>\n",
       "      <td>1.60</td>\n",
       "      <td>194.0</td>\n",
       "      <td>147.0</td>\n",
       "      <td>1.60</td>\n",
       "      <td>1.60</td>\n",
       "    </tr>\n",
       "    <tr>\n",
       "      <th>1</th>\n",
       "      <td>10</td>\n",
       "      <td>10</td>\n",
       "      <td>70</td>\n",
       "      <td>66</td>\n",
       "      <td>40</td>\n",
       "      <td>2.00</td>\n",
       "      <td>170.0</td>\n",
       "      <td>141.5</td>\n",
       "      <td>2.00</td>\n",
       "      <td>2.00</td>\n",
       "    </tr>\n",
       "    <tr>\n",
       "      <th>2</th>\n",
       "      <td>10</td>\n",
       "      <td>10</td>\n",
       "      <td>70</td>\n",
       "      <td>66</td>\n",
       "      <td>44</td>\n",
       "      <td>1.60</td>\n",
       "      <td>193.5</td>\n",
       "      <td>138.0</td>\n",
       "      <td>1.60</td>\n",
       "      <td>1.60</td>\n",
       "    </tr>\n",
       "    <tr>\n",
       "      <th>3</th>\n",
       "      <td>10</td>\n",
       "      <td>10</td>\n",
       "      <td>70</td>\n",
       "      <td>66</td>\n",
       "      <td>44</td>\n",
       "      <td>1.60</td>\n",
       "      <td>193.0</td>\n",
       "      <td>144.0</td>\n",
       "      <td>1.60</td>\n",
       "      <td>1.60</td>\n",
       "    </tr>\n",
       "    <tr>\n",
       "      <th>4</th>\n",
       "      <td>10</td>\n",
       "      <td>10</td>\n",
       "      <td>70</td>\n",
       "      <td>66</td>\n",
       "      <td>50</td>\n",
       "      <td>1.46</td>\n",
       "      <td>174.5</td>\n",
       "      <td>139.5</td>\n",
       "      <td>1.46</td>\n",
       "      <td>1.28</td>\n",
       "    </tr>\n",
       "  </tbody>\n",
       "</table>\n",
       "</div>"
      ],
      "text/plain": [
       "   WARP count (Ne) (Blend:100% Cotton)  WEFT count (Ne) (Blend:Cotton/SPDX)  \\\n",
       "0                                   10                                   10   \n",
       "1                                   10                                   10   \n",
       "2                                   10                                   10   \n",
       "3                                   10                                   10   \n",
       "4                                   10                                   10   \n",
       "\n",
       "   Spandex(Denier) in Weft core  Greige Ends / Inch  Greige Picks/Inch  WEAVE  \\\n",
       "0                           105                  62                 54   1.60   \n",
       "1                            70                  66                 40   2.00   \n",
       "2                            70                  66                 44   1.60   \n",
       "3                            70                  66                 44   1.60   \n",
       "4                            70                  66                 50   1.46   \n",
       "\n",
       "   Greige Width  BOIL-OFF Width    M1    M2  \n",
       "0         194.0           147.0  1.60  1.60  \n",
       "1         170.0           141.5  2.00  2.00  \n",
       "2         193.5           138.0  1.60  1.60  \n",
       "3         193.0           144.0  1.60  1.60  \n",
       "4         174.5           139.5  1.46  1.28  "
      ]
     },
     "execution_count": 9,
     "metadata": {},
     "output_type": "execute_result"
    }
   ],
   "source": [
    "df.head()"
   ]
  },
  {
   "cell_type": "code",
   "execution_count": 10,
   "metadata": {},
   "outputs": [
    {
     "name": "stdout",
     "output_type": "stream",
     "text": [
      "[1.6  2.   1.28 1.2  1.57 1.58 1.   1.92 2.25 1.8 ]\n"
     ]
    }
   ],
   "source": [
    "print(df['M2'].unique())"
   ]
  },
  {
   "cell_type": "code",
   "execution_count": 11,
   "metadata": {},
   "outputs": [
    {
     "data": {
      "text/html": [
       "<div>\n",
       "<style scoped>\n",
       "    .dataframe tbody tr th:only-of-type {\n",
       "        vertical-align: middle;\n",
       "    }\n",
       "\n",
       "    .dataframe tbody tr th {\n",
       "        vertical-align: top;\n",
       "    }\n",
       "\n",
       "    .dataframe thead th {\n",
       "        text-align: right;\n",
       "    }\n",
       "</style>\n",
       "<table border=\"1\" class=\"dataframe\">\n",
       "  <thead>\n",
       "    <tr style=\"text-align: right;\">\n",
       "      <th></th>\n",
       "      <th>WARP count (Ne) (Blend:100% Cotton)</th>\n",
       "      <th>WEFT count (Ne) (Blend:Cotton/SPDX)</th>\n",
       "      <th>Spandex(Denier) in Weft core</th>\n",
       "      <th>Greige Ends / Inch</th>\n",
       "      <th>Greige Picks/Inch</th>\n",
       "      <th>WEAVE</th>\n",
       "      <th>Greige Width</th>\n",
       "      <th>BOIL-OFF Width</th>\n",
       "      <th>M1</th>\n",
       "      <th>M2</th>\n",
       "    </tr>\n",
       "  </thead>\n",
       "  <tbody>\n",
       "    <tr>\n",
       "      <th>count</th>\n",
       "      <td>1255.000000</td>\n",
       "      <td>1255.000000</td>\n",
       "      <td>1255.000000</td>\n",
       "      <td>1255.000000</td>\n",
       "      <td>1255.000000</td>\n",
       "      <td>1255.000000</td>\n",
       "      <td>1255.000000</td>\n",
       "      <td>1255.000000</td>\n",
       "      <td>1255.000000</td>\n",
       "      <td>1255.000000</td>\n",
       "    </tr>\n",
       "    <tr>\n",
       "      <th>mean</th>\n",
       "      <td>22.343426</td>\n",
       "      <td>17.960956</td>\n",
       "      <td>68.750598</td>\n",
       "      <td>101.232669</td>\n",
       "      <td>64.947410</td>\n",
       "      <td>1.685277</td>\n",
       "      <td>180.313307</td>\n",
       "      <td>129.696335</td>\n",
       "      <td>1.685277</td>\n",
       "      <td>1.637992</td>\n",
       "    </tr>\n",
       "    <tr>\n",
       "      <th>std</th>\n",
       "      <td>8.614876</td>\n",
       "      <td>5.459075</td>\n",
       "      <td>20.730959</td>\n",
       "      <td>25.468185</td>\n",
       "      <td>12.782393</td>\n",
       "      <td>0.249209</td>\n",
       "      <td>13.235503</td>\n",
       "      <td>13.540937</td>\n",
       "      <td>0.249209</td>\n",
       "      <td>0.232556</td>\n",
       "    </tr>\n",
       "    <tr>\n",
       "      <th>min</th>\n",
       "      <td>7.000000</td>\n",
       "      <td>6.000000</td>\n",
       "      <td>7.000000</td>\n",
       "      <td>50.000000</td>\n",
       "      <td>38.000000</td>\n",
       "      <td>1.000000</td>\n",
       "      <td>125.000000</td>\n",
       "      <td>38.000000</td>\n",
       "      <td>1.000000</td>\n",
       "      <td>1.000000</td>\n",
       "    </tr>\n",
       "    <tr>\n",
       "      <th>25%</th>\n",
       "      <td>16.000000</td>\n",
       "      <td>16.000000</td>\n",
       "      <td>70.000000</td>\n",
       "      <td>84.000000</td>\n",
       "      <td>54.000000</td>\n",
       "      <td>1.600000</td>\n",
       "      <td>172.000000</td>\n",
       "      <td>119.500000</td>\n",
       "      <td>1.600000</td>\n",
       "      <td>1.600000</td>\n",
       "    </tr>\n",
       "    <tr>\n",
       "      <th>50%</th>\n",
       "      <td>20.000000</td>\n",
       "      <td>20.000000</td>\n",
       "      <td>70.000000</td>\n",
       "      <td>102.000000</td>\n",
       "      <td>62.000000</td>\n",
       "      <td>1.600000</td>\n",
       "      <td>178.500000</td>\n",
       "      <td>130.500000</td>\n",
       "      <td>1.600000</td>\n",
       "      <td>1.600000</td>\n",
       "    </tr>\n",
       "    <tr>\n",
       "      <th>75%</th>\n",
       "      <td>30.000000</td>\n",
       "      <td>20.000000</td>\n",
       "      <td>70.000000</td>\n",
       "      <td>118.000000</td>\n",
       "      <td>76.000000</td>\n",
       "      <td>1.910000</td>\n",
       "      <td>191.000000</td>\n",
       "      <td>139.000000</td>\n",
       "      <td>1.910000</td>\n",
       "      <td>1.600000</td>\n",
       "    </tr>\n",
       "    <tr>\n",
       "      <th>max</th>\n",
       "      <td>50.000000</td>\n",
       "      <td>50.000000</td>\n",
       "      <td>140.000000</td>\n",
       "      <td>186.000000</td>\n",
       "      <td>108.000000</td>\n",
       "      <td>3.000000</td>\n",
       "      <td>210.000000</td>\n",
       "      <td>177.000000</td>\n",
       "      <td>3.000000</td>\n",
       "      <td>2.250000</td>\n",
       "    </tr>\n",
       "  </tbody>\n",
       "</table>\n",
       "</div>"
      ],
      "text/plain": [
       "       WARP count (Ne) (Blend:100% Cotton)  \\\n",
       "count                          1255.000000   \n",
       "mean                             22.343426   \n",
       "std                               8.614876   \n",
       "min                               7.000000   \n",
       "25%                              16.000000   \n",
       "50%                              20.000000   \n",
       "75%                              30.000000   \n",
       "max                              50.000000   \n",
       "\n",
       "       WEFT count (Ne) (Blend:Cotton/SPDX)  Spandex(Denier) in Weft core  \\\n",
       "count                          1255.000000                   1255.000000   \n",
       "mean                             17.960956                     68.750598   \n",
       "std                               5.459075                     20.730959   \n",
       "min                               6.000000                      7.000000   \n",
       "25%                              16.000000                     70.000000   \n",
       "50%                              20.000000                     70.000000   \n",
       "75%                              20.000000                     70.000000   \n",
       "max                              50.000000                    140.000000   \n",
       "\n",
       "       Greige Ends / Inch  Greige Picks/Inch        WEAVE  Greige Width  \\\n",
       "count         1255.000000        1255.000000  1255.000000   1255.000000   \n",
       "mean           101.232669          64.947410     1.685277    180.313307   \n",
       "std             25.468185          12.782393     0.249209     13.235503   \n",
       "min             50.000000          38.000000     1.000000    125.000000   \n",
       "25%             84.000000          54.000000     1.600000    172.000000   \n",
       "50%            102.000000          62.000000     1.600000    178.500000   \n",
       "75%            118.000000          76.000000     1.910000    191.000000   \n",
       "max            186.000000         108.000000     3.000000    210.000000   \n",
       "\n",
       "       BOIL-OFF Width           M1           M2  \n",
       "count     1255.000000  1255.000000  1255.000000  \n",
       "mean       129.696335     1.685277     1.637992  \n",
       "std         13.540937     0.249209     0.232556  \n",
       "min         38.000000     1.000000     1.000000  \n",
       "25%        119.500000     1.600000     1.600000  \n",
       "50%        130.500000     1.600000     1.600000  \n",
       "75%        139.000000     1.910000     1.600000  \n",
       "max        177.000000     3.000000     2.250000  "
      ]
     },
     "execution_count": 11,
     "metadata": {},
     "output_type": "execute_result"
    }
   ],
   "source": [
    "df.describe()"
   ]
  },
  {
   "cell_type": "code",
   "execution_count": 12,
   "metadata": {},
   "outputs": [
    {
     "data": {
      "text/plain": [
       "Index(['WARP count (Ne) (Blend:100% Cotton)',\n",
       "       'WEFT count (Ne) (Blend:Cotton/SPDX)', 'Spandex(Denier) in Weft core',\n",
       "       'Greige Ends / Inch', 'Greige Picks/Inch', 'WEAVE', 'Greige Width',\n",
       "       'BOIL-OFF Width', 'M1', 'M2'],\n",
       "      dtype='object')"
      ]
     },
     "execution_count": 12,
     "metadata": {},
     "output_type": "execute_result"
    }
   ],
   "source": [
    "df.columns"
   ]
  },
  {
   "cell_type": "code",
   "execution_count": 13,
   "metadata": {},
   "outputs": [],
   "source": [
    "final_dataset = df[['WARP count (Ne) (Blend:100% Cotton)',\n",
    "       'WEFT count (Ne) (Blend:Cotton/SPDX)', 'Spandex(Denier) in Weft core',\n",
    "       'Greige Ends / Inch', 'Greige Picks/Inch', 'Greige Width',\n",
    "       'BOIL-OFF Width', 'M1', 'M2']]"
   ]
  },
  {
   "cell_type": "code",
   "execution_count": 14,
   "metadata": {},
   "outputs": [
    {
     "data": {
      "text/html": [
       "<div>\n",
       "<style scoped>\n",
       "    .dataframe tbody tr th:only-of-type {\n",
       "        vertical-align: middle;\n",
       "    }\n",
       "\n",
       "    .dataframe tbody tr th {\n",
       "        vertical-align: top;\n",
       "    }\n",
       "\n",
       "    .dataframe thead th {\n",
       "        text-align: right;\n",
       "    }\n",
       "</style>\n",
       "<table border=\"1\" class=\"dataframe\">\n",
       "  <thead>\n",
       "    <tr style=\"text-align: right;\">\n",
       "      <th></th>\n",
       "      <th>WARP count (Ne) (Blend:100% Cotton)</th>\n",
       "      <th>WEFT count (Ne) (Blend:Cotton/SPDX)</th>\n",
       "      <th>Spandex(Denier) in Weft core</th>\n",
       "      <th>Greige Ends / Inch</th>\n",
       "      <th>Greige Picks/Inch</th>\n",
       "      <th>Greige Width</th>\n",
       "      <th>BOIL-OFF Width</th>\n",
       "      <th>M1</th>\n",
       "      <th>M2</th>\n",
       "    </tr>\n",
       "  </thead>\n",
       "  <tbody>\n",
       "    <tr>\n",
       "      <th>0</th>\n",
       "      <td>10</td>\n",
       "      <td>10</td>\n",
       "      <td>105</td>\n",
       "      <td>62</td>\n",
       "      <td>54</td>\n",
       "      <td>194.0</td>\n",
       "      <td>147.0</td>\n",
       "      <td>1.60</td>\n",
       "      <td>1.60</td>\n",
       "    </tr>\n",
       "    <tr>\n",
       "      <th>1</th>\n",
       "      <td>10</td>\n",
       "      <td>10</td>\n",
       "      <td>70</td>\n",
       "      <td>66</td>\n",
       "      <td>40</td>\n",
       "      <td>170.0</td>\n",
       "      <td>141.5</td>\n",
       "      <td>2.00</td>\n",
       "      <td>2.00</td>\n",
       "    </tr>\n",
       "    <tr>\n",
       "      <th>2</th>\n",
       "      <td>10</td>\n",
       "      <td>10</td>\n",
       "      <td>70</td>\n",
       "      <td>66</td>\n",
       "      <td>44</td>\n",
       "      <td>193.5</td>\n",
       "      <td>138.0</td>\n",
       "      <td>1.60</td>\n",
       "      <td>1.60</td>\n",
       "    </tr>\n",
       "    <tr>\n",
       "      <th>3</th>\n",
       "      <td>10</td>\n",
       "      <td>10</td>\n",
       "      <td>70</td>\n",
       "      <td>66</td>\n",
       "      <td>44</td>\n",
       "      <td>193.0</td>\n",
       "      <td>144.0</td>\n",
       "      <td>1.60</td>\n",
       "      <td>1.60</td>\n",
       "    </tr>\n",
       "    <tr>\n",
       "      <th>4</th>\n",
       "      <td>10</td>\n",
       "      <td>10</td>\n",
       "      <td>70</td>\n",
       "      <td>66</td>\n",
       "      <td>50</td>\n",
       "      <td>174.5</td>\n",
       "      <td>139.5</td>\n",
       "      <td>1.46</td>\n",
       "      <td>1.28</td>\n",
       "    </tr>\n",
       "  </tbody>\n",
       "</table>\n",
       "</div>"
      ],
      "text/plain": [
       "   WARP count (Ne) (Blend:100% Cotton)  WEFT count (Ne) (Blend:Cotton/SPDX)  \\\n",
       "0                                   10                                   10   \n",
       "1                                   10                                   10   \n",
       "2                                   10                                   10   \n",
       "3                                   10                                   10   \n",
       "4                                   10                                   10   \n",
       "\n",
       "   Spandex(Denier) in Weft core  Greige Ends / Inch  Greige Picks/Inch  \\\n",
       "0                           105                  62                 54   \n",
       "1                            70                  66                 40   \n",
       "2                            70                  66                 44   \n",
       "3                            70                  66                 44   \n",
       "4                            70                  66                 50   \n",
       "\n",
       "   Greige Width  BOIL-OFF Width    M1    M2  \n",
       "0         194.0           147.0  1.60  1.60  \n",
       "1         170.0           141.5  2.00  2.00  \n",
       "2         193.5           138.0  1.60  1.60  \n",
       "3         193.0           144.0  1.60  1.60  \n",
       "4         174.5           139.5  1.46  1.28  "
      ]
     },
     "execution_count": 14,
     "metadata": {},
     "output_type": "execute_result"
    }
   ],
   "source": [
    "final_dataset.head()"
   ]
  },
  {
   "cell_type": "code",
   "execution_count": 15,
   "metadata": {},
   "outputs": [
    {
     "data": {
      "text/plain": [
       "(1255, 9)"
      ]
     },
     "execution_count": 15,
     "metadata": {},
     "output_type": "execute_result"
    }
   ],
   "source": [
    "final_dataset.shape"
   ]
  },
  {
   "cell_type": "code",
   "execution_count": 16,
   "metadata": {},
   "outputs": [
    {
     "data": {
      "text/html": [
       "<div>\n",
       "<style scoped>\n",
       "    .dataframe tbody tr th:only-of-type {\n",
       "        vertical-align: middle;\n",
       "    }\n",
       "\n",
       "    .dataframe tbody tr th {\n",
       "        vertical-align: top;\n",
       "    }\n",
       "\n",
       "    .dataframe thead th {\n",
       "        text-align: right;\n",
       "    }\n",
       "</style>\n",
       "<table border=\"1\" class=\"dataframe\">\n",
       "  <thead>\n",
       "    <tr style=\"text-align: right;\">\n",
       "      <th></th>\n",
       "      <th>WARP count (Ne) (Blend:100% Cotton)</th>\n",
       "      <th>WEFT count (Ne) (Blend:Cotton/SPDX)</th>\n",
       "      <th>Spandex(Denier) in Weft core</th>\n",
       "      <th>Greige Ends / Inch</th>\n",
       "      <th>Greige Picks/Inch</th>\n",
       "      <th>Greige Width</th>\n",
       "      <th>BOIL-OFF Width</th>\n",
       "      <th>M1</th>\n",
       "      <th>M2</th>\n",
       "    </tr>\n",
       "  </thead>\n",
       "  <tbody>\n",
       "    <tr>\n",
       "      <th>WARP count (Ne) (Blend:100% Cotton)</th>\n",
       "      <td>1.000000</td>\n",
       "      <td>0.588470</td>\n",
       "      <td>-0.249473</td>\n",
       "      <td>0.845452</td>\n",
       "      <td>0.627564</td>\n",
       "      <td>0.086100</td>\n",
       "      <td>-0.089256</td>\n",
       "      <td>-0.069184</td>\n",
       "      <td>-0.033409</td>\n",
       "    </tr>\n",
       "    <tr>\n",
       "      <th>WEFT count (Ne) (Blend:Cotton/SPDX)</th>\n",
       "      <td>0.588470</td>\n",
       "      <td>1.000000</td>\n",
       "      <td>-0.366870</td>\n",
       "      <td>0.459144</td>\n",
       "      <td>0.736998</td>\n",
       "      <td>0.085058</td>\n",
       "      <td>-0.048197</td>\n",
       "      <td>-0.193785</td>\n",
       "      <td>-0.136795</td>\n",
       "    </tr>\n",
       "    <tr>\n",
       "      <th>Spandex(Denier) in Weft core</th>\n",
       "      <td>-0.249473</td>\n",
       "      <td>-0.366870</td>\n",
       "      <td>1.000000</td>\n",
       "      <td>-0.227383</td>\n",
       "      <td>-0.287435</td>\n",
       "      <td>-0.077907</td>\n",
       "      <td>-0.119662</td>\n",
       "      <td>0.040401</td>\n",
       "      <td>0.104440</td>\n",
       "    </tr>\n",
       "    <tr>\n",
       "      <th>Greige Ends / Inch</th>\n",
       "      <td>0.845452</td>\n",
       "      <td>0.459144</td>\n",
       "      <td>-0.227383</td>\n",
       "      <td>1.000000</td>\n",
       "      <td>0.520626</td>\n",
       "      <td>0.036794</td>\n",
       "      <td>-0.040616</td>\n",
       "      <td>0.006545</td>\n",
       "      <td>0.065261</td>\n",
       "    </tr>\n",
       "    <tr>\n",
       "      <th>Greige Picks/Inch</th>\n",
       "      <td>0.627564</td>\n",
       "      <td>0.736998</td>\n",
       "      <td>-0.287435</td>\n",
       "      <td>0.520626</td>\n",
       "      <td>1.000000</td>\n",
       "      <td>0.126065</td>\n",
       "      <td>0.071121</td>\n",
       "      <td>0.002778</td>\n",
       "      <td>0.092628</td>\n",
       "    </tr>\n",
       "    <tr>\n",
       "      <th>Greige Width</th>\n",
       "      <td>0.086100</td>\n",
       "      <td>0.085058</td>\n",
       "      <td>-0.077907</td>\n",
       "      <td>0.036794</td>\n",
       "      <td>0.126065</td>\n",
       "      <td>1.000000</td>\n",
       "      <td>0.635037</td>\n",
       "      <td>-0.139750</td>\n",
       "      <td>-0.067003</td>\n",
       "    </tr>\n",
       "    <tr>\n",
       "      <th>BOIL-OFF Width</th>\n",
       "      <td>-0.089256</td>\n",
       "      <td>-0.048197</td>\n",
       "      <td>-0.119662</td>\n",
       "      <td>-0.040616</td>\n",
       "      <td>0.071121</td>\n",
       "      <td>0.635037</td>\n",
       "      <td>1.000000</td>\n",
       "      <td>-0.168172</td>\n",
       "      <td>-0.119294</td>\n",
       "    </tr>\n",
       "    <tr>\n",
       "      <th>M1</th>\n",
       "      <td>-0.069184</td>\n",
       "      <td>-0.193785</td>\n",
       "      <td>0.040401</td>\n",
       "      <td>0.006545</td>\n",
       "      <td>0.002778</td>\n",
       "      <td>-0.139750</td>\n",
       "      <td>-0.168172</td>\n",
       "      <td>1.000000</td>\n",
       "      <td>0.844680</td>\n",
       "    </tr>\n",
       "    <tr>\n",
       "      <th>M2</th>\n",
       "      <td>-0.033409</td>\n",
       "      <td>-0.136795</td>\n",
       "      <td>0.104440</td>\n",
       "      <td>0.065261</td>\n",
       "      <td>0.092628</td>\n",
       "      <td>-0.067003</td>\n",
       "      <td>-0.119294</td>\n",
       "      <td>0.844680</td>\n",
       "      <td>1.000000</td>\n",
       "    </tr>\n",
       "  </tbody>\n",
       "</table>\n",
       "</div>"
      ],
      "text/plain": [
       "                                     WARP count (Ne) (Blend:100% Cotton)  \\\n",
       "WARP count (Ne) (Blend:100% Cotton)                             1.000000   \n",
       "WEFT count (Ne) (Blend:Cotton/SPDX)                             0.588470   \n",
       "Spandex(Denier) in Weft core                                   -0.249473   \n",
       "Greige Ends / Inch                                              0.845452   \n",
       "Greige Picks/Inch                                               0.627564   \n",
       "Greige Width                                                    0.086100   \n",
       "BOIL-OFF Width                                                 -0.089256   \n",
       "M1                                                             -0.069184   \n",
       "M2                                                             -0.033409   \n",
       "\n",
       "                                     WEFT count (Ne) (Blend:Cotton/SPDX)  \\\n",
       "WARP count (Ne) (Blend:100% Cotton)                             0.588470   \n",
       "WEFT count (Ne) (Blend:Cotton/SPDX)                             1.000000   \n",
       "Spandex(Denier) in Weft core                                   -0.366870   \n",
       "Greige Ends / Inch                                              0.459144   \n",
       "Greige Picks/Inch                                               0.736998   \n",
       "Greige Width                                                    0.085058   \n",
       "BOIL-OFF Width                                                 -0.048197   \n",
       "M1                                                             -0.193785   \n",
       "M2                                                             -0.136795   \n",
       "\n",
       "                                     Spandex(Denier) in Weft core  \\\n",
       "WARP count (Ne) (Blend:100% Cotton)                     -0.249473   \n",
       "WEFT count (Ne) (Blend:Cotton/SPDX)                     -0.366870   \n",
       "Spandex(Denier) in Weft core                             1.000000   \n",
       "Greige Ends / Inch                                      -0.227383   \n",
       "Greige Picks/Inch                                       -0.287435   \n",
       "Greige Width                                            -0.077907   \n",
       "BOIL-OFF Width                                          -0.119662   \n",
       "M1                                                       0.040401   \n",
       "M2                                                       0.104440   \n",
       "\n",
       "                                     Greige Ends / Inch  Greige Picks/Inch  \\\n",
       "WARP count (Ne) (Blend:100% Cotton)            0.845452           0.627564   \n",
       "WEFT count (Ne) (Blend:Cotton/SPDX)            0.459144           0.736998   \n",
       "Spandex(Denier) in Weft core                  -0.227383          -0.287435   \n",
       "Greige Ends / Inch                             1.000000           0.520626   \n",
       "Greige Picks/Inch                              0.520626           1.000000   \n",
       "Greige Width                                   0.036794           0.126065   \n",
       "BOIL-OFF Width                                -0.040616           0.071121   \n",
       "M1                                             0.006545           0.002778   \n",
       "M2                                             0.065261           0.092628   \n",
       "\n",
       "                                     Greige Width  BOIL-OFF Width        M1  \\\n",
       "WARP count (Ne) (Blend:100% Cotton)      0.086100       -0.089256 -0.069184   \n",
       "WEFT count (Ne) (Blend:Cotton/SPDX)      0.085058       -0.048197 -0.193785   \n",
       "Spandex(Denier) in Weft core            -0.077907       -0.119662  0.040401   \n",
       "Greige Ends / Inch                       0.036794       -0.040616  0.006545   \n",
       "Greige Picks/Inch                        0.126065        0.071121  0.002778   \n",
       "Greige Width                             1.000000        0.635037 -0.139750   \n",
       "BOIL-OFF Width                           0.635037        1.000000 -0.168172   \n",
       "M1                                      -0.139750       -0.168172  1.000000   \n",
       "M2                                      -0.067003       -0.119294  0.844680   \n",
       "\n",
       "                                           M2  \n",
       "WARP count (Ne) (Blend:100% Cotton) -0.033409  \n",
       "WEFT count (Ne) (Blend:Cotton/SPDX) -0.136795  \n",
       "Spandex(Denier) in Weft core         0.104440  \n",
       "Greige Ends / Inch                   0.065261  \n",
       "Greige Picks/Inch                    0.092628  \n",
       "Greige Width                        -0.067003  \n",
       "BOIL-OFF Width                      -0.119294  \n",
       "M1                                   0.844680  \n",
       "M2                                   1.000000  "
      ]
     },
     "execution_count": 16,
     "metadata": {},
     "output_type": "execute_result"
    }
   ],
   "source": [
    "final_dataset.corr()"
   ]
  },
  {
   "cell_type": "code",
   "execution_count": 17,
   "metadata": {},
   "outputs": [],
   "source": [
    "import matplotlib.pyplot as plt\n",
    "%matplotlib inline"
   ]
  },
  {
   "cell_type": "code",
   "execution_count": 18,
   "metadata": {},
   "outputs": [
    {
     "data": {
      "image/png": "[encoded data removed]",
      "text/plain": [
       "<Figure size 1440x1440 with 2 Axes>"
      ]
     },
     "metadata": {
      "needs_background": "light"
     },
     "output_type": "display_data"
    }
   ],
   "source": [
    "corrmat = final_dataset.corr()\n",
    "corr_features = corrmat.index\n",
    "plt.figure(figsize = (20, 20))\n",
    "## heat graph of input features\n",
    "graph = sns.heatmap(final_dataset[corr_features].corr(), annot= True, cmap = 'RdYlGn')"
   ]
  },
  {
   "cell_type": "code",
   "execution_count": 19,
   "metadata": {},
   "outputs": [
    {
     "data": {
      "text/html": [
       "<div>\n",
       "<style scoped>\n",
       "    .dataframe tbody tr th:only-of-type {\n",
       "        vertical-align: middle;\n",
       "    }\n",
       "\n",
       "    .dataframe tbody tr th {\n",
       "        vertical-align: top;\n",
       "    }\n",
       "\n",
       "    .dataframe thead th {\n",
       "        text-align: right;\n",
       "    }\n",
       "</style>\n",
       "<table border=\"1\" class=\"dataframe\">\n",
       "  <thead>\n",
       "    <tr style=\"text-align: right;\">\n",
       "      <th></th>\n",
       "      <th>WARP count (Ne) (Blend:100% Cotton)</th>\n",
       "      <th>WEFT count (Ne) (Blend:Cotton/SPDX)</th>\n",
       "      <th>Spandex(Denier) in Weft core</th>\n",
       "      <th>Greige Ends / Inch</th>\n",
       "      <th>Greige Picks/Inch</th>\n",
       "      <th>Greige Width</th>\n",
       "      <th>BOIL-OFF Width</th>\n",
       "      <th>M1</th>\n",
       "      <th>M2</th>\n",
       "    </tr>\n",
       "  </thead>\n",
       "  <tbody>\n",
       "    <tr>\n",
       "      <th>0</th>\n",
       "      <td>10</td>\n",
       "      <td>10</td>\n",
       "      <td>105</td>\n",
       "      <td>62</td>\n",
       "      <td>54</td>\n",
       "      <td>194.0</td>\n",
       "      <td>147.0</td>\n",
       "      <td>1.60</td>\n",
       "      <td>1.60</td>\n",
       "    </tr>\n",
       "    <tr>\n",
       "      <th>1</th>\n",
       "      <td>10</td>\n",
       "      <td>10</td>\n",
       "      <td>70</td>\n",
       "      <td>66</td>\n",
       "      <td>40</td>\n",
       "      <td>170.0</td>\n",
       "      <td>141.5</td>\n",
       "      <td>2.00</td>\n",
       "      <td>2.00</td>\n",
       "    </tr>\n",
       "    <tr>\n",
       "      <th>2</th>\n",
       "      <td>10</td>\n",
       "      <td>10</td>\n",
       "      <td>70</td>\n",
       "      <td>66</td>\n",
       "      <td>44</td>\n",
       "      <td>193.5</td>\n",
       "      <td>138.0</td>\n",
       "      <td>1.60</td>\n",
       "      <td>1.60</td>\n",
       "    </tr>\n",
       "    <tr>\n",
       "      <th>3</th>\n",
       "      <td>10</td>\n",
       "      <td>10</td>\n",
       "      <td>70</td>\n",
       "      <td>66</td>\n",
       "      <td>44</td>\n",
       "      <td>193.0</td>\n",
       "      <td>144.0</td>\n",
       "      <td>1.60</td>\n",
       "      <td>1.60</td>\n",
       "    </tr>\n",
       "    <tr>\n",
       "      <th>4</th>\n",
       "      <td>10</td>\n",
       "      <td>10</td>\n",
       "      <td>70</td>\n",
       "      <td>66</td>\n",
       "      <td>50</td>\n",
       "      <td>174.5</td>\n",
       "      <td>139.5</td>\n",
       "      <td>1.46</td>\n",
       "      <td>1.28</td>\n",
       "    </tr>\n",
       "  </tbody>\n",
       "</table>\n",
       "</div>"
      ],
      "text/plain": [
       "   WARP count (Ne) (Blend:100% Cotton)  WEFT count (Ne) (Blend:Cotton/SPDX)  \\\n",
       "0                                   10                                   10   \n",
       "1                                   10                                   10   \n",
       "2                                   10                                   10   \n",
       "3                                   10                                   10   \n",
       "4                                   10                                   10   \n",
       "\n",
       "   Spandex(Denier) in Weft core  Greige Ends / Inch  Greige Picks/Inch  \\\n",
       "0                           105                  62                 54   \n",
       "1                            70                  66                 40   \n",
       "2                            70                  66                 44   \n",
       "3                            70                  66                 44   \n",
       "4                            70                  66                 50   \n",
       "\n",
       "   Greige Width  BOIL-OFF Width    M1    M2  \n",
       "0         194.0           147.0  1.60  1.60  \n",
       "1         170.0           141.5  2.00  2.00  \n",
       "2         193.5           138.0  1.60  1.60  \n",
       "3         193.0           144.0  1.60  1.60  \n",
       "4         174.5           139.5  1.46  1.28  "
      ]
     },
     "execution_count": 19,
     "metadata": {},
     "output_type": "execute_result"
    }
   ],
   "source": [
    "final_dataset.head()"
   ]
  },
  {
   "cell_type": "code",
   "execution_count": 20,
   "metadata": {},
   "outputs": [],
   "source": [
    "## choosing input and output features\n",
    "X = final_dataset[['WARP count (Ne) (Blend:100% Cotton)','WEFT count (Ne) (Blend:Cotton/SPDX)', 'Spandex(Denier) in Weft core','Greige Ends / Inch', 'Greige Picks/Inch', 'Greige Width','M1', 'M2']]\n",
    "y = final_dataset.iloc[:, 6]"
   ]
  },
  {
   "cell_type": "code",
   "execution_count": 21,
   "metadata": {},
   "outputs": [
    {
     "data": {
      "text/html": [
       "<div>\n",
       "<style scoped>\n",
       "    .dataframe tbody tr th:only-of-type {\n",
       "        vertical-align: middle;\n",
       "    }\n",
       "\n",
       "    .dataframe tbody tr th {\n",
       "        vertical-align: top;\n",
       "    }\n",
       "\n",
       "    .dataframe thead th {\n",
       "        text-align: right;\n",
       "    }\n",
       "</style>\n",
       "<table border=\"1\" class=\"dataframe\">\n",
       "  <thead>\n",
       "    <tr style=\"text-align: right;\">\n",
       "      <th></th>\n",
       "      <th>WARP count (Ne) (Blend:100% Cotton)</th>\n",
       "      <th>WEFT count (Ne) (Blend:Cotton/SPDX)</th>\n",
       "      <th>Spandex(Denier) in Weft core</th>\n",
       "      <th>Greige Ends / Inch</th>\n",
       "      <th>Greige Picks/Inch</th>\n",
       "      <th>Greige Width</th>\n",
       "      <th>M1</th>\n",
       "      <th>M2</th>\n",
       "    </tr>\n",
       "  </thead>\n",
       "  <tbody>\n",
       "    <tr>\n",
       "      <th>0</th>\n",
       "      <td>10</td>\n",
       "      <td>10</td>\n",
       "      <td>105</td>\n",
       "      <td>62</td>\n",
       "      <td>54</td>\n",
       "      <td>194.0</td>\n",
       "      <td>1.60</td>\n",
       "      <td>1.60</td>\n",
       "    </tr>\n",
       "    <tr>\n",
       "      <th>1</th>\n",
       "      <td>10</td>\n",
       "      <td>10</td>\n",
       "      <td>70</td>\n",
       "      <td>66</td>\n",
       "      <td>40</td>\n",
       "      <td>170.0</td>\n",
       "      <td>2.00</td>\n",
       "      <td>2.00</td>\n",
       "    </tr>\n",
       "    <tr>\n",
       "      <th>2</th>\n",
       "      <td>10</td>\n",
       "      <td>10</td>\n",
       "      <td>70</td>\n",
       "      <td>66</td>\n",
       "      <td>44</td>\n",
       "      <td>193.5</td>\n",
       "      <td>1.60</td>\n",
       "      <td>1.60</td>\n",
       "    </tr>\n",
       "    <tr>\n",
       "      <th>3</th>\n",
       "      <td>10</td>\n",
       "      <td>10</td>\n",
       "      <td>70</td>\n",
       "      <td>66</td>\n",
       "      <td>44</td>\n",
       "      <td>193.0</td>\n",
       "      <td>1.60</td>\n",
       "      <td>1.60</td>\n",
       "    </tr>\n",
       "    <tr>\n",
       "      <th>4</th>\n",
       "      <td>10</td>\n",
       "      <td>10</td>\n",
       "      <td>70</td>\n",
       "      <td>66</td>\n",
       "      <td>50</td>\n",
       "      <td>174.5</td>\n",
       "      <td>1.46</td>\n",
       "      <td>1.28</td>\n",
       "    </tr>\n",
       "  </tbody>\n",
       "</table>\n",
       "</div>"
      ],
      "text/plain": [
       "   WARP count (Ne) (Blend:100% Cotton)  WEFT count (Ne) (Blend:Cotton/SPDX)  \\\n",
       "0                                   10                                   10   \n",
       "1                                   10                                   10   \n",
       "2                                   10                                   10   \n",
       "3                                   10                                   10   \n",
       "4                                   10                                   10   \n",
       "\n",
       "   Spandex(Denier) in Weft core  Greige Ends / Inch  Greige Picks/Inch  \\\n",
       "0                           105                  62                 54   \n",
       "1                            70                  66                 40   \n",
       "2                            70                  66                 44   \n",
       "3                            70                  66                 44   \n",
       "4                            70                  66                 50   \n",
       "\n",
       "   Greige Width    M1    M2  \n",
       "0         194.0  1.60  1.60  \n",
       "1         170.0  2.00  2.00  \n",
       "2         193.5  1.60  1.60  \n",
       "3         193.0  1.60  1.60  \n",
       "4         174.5  1.46  1.28  "
      ]
     },
     "execution_count": 21,
     "metadata": {},
     "output_type": "execute_result"
    }
   ],
   "source": [
    "X.head()"
   ]
  },
  {
   "cell_type": "code",
   "execution_count": 22,
   "metadata": {},
   "outputs": [],
   "source": [
    "X.to_csv('X.csv', index = False)\n",
    "y.to_csv('y.csv', index = False)"
   ]
  },
  {
   "cell_type": "code",
   "execution_count": 23,
   "metadata": {},
   "outputs": [
    {
     "data": {
      "text/plain": [
       "0    147.0\n",
       "1    141.5\n",
       "2    138.0\n",
       "3    144.0\n",
       "4    139.5\n",
       "Name: BOIL-OFF Width, dtype: float64"
      ]
     },
     "execution_count": 23,
     "metadata": {},
     "output_type": "execute_result"
    }
   ],
   "source": [
    "y.head()"
   ]
  },
  {
   "cell_type": "code",
   "execution_count": 24,
   "metadata": {},
   "outputs": [
    {
     "name": "stderr",
     "output_type": "stream",
     "text": [
      "E:\\anaconda3\\lib\\site-packages\\sklearn\\ensemble\\forest.py:246: FutureWarning: The default value of n_estimators will change from 10 in version 0.20 to 100 in 0.22.\n",
      "  \"10 in version 0.20 to 100 in 0.22.\", FutureWarning)\n"
     ]
    }
   ],
   "source": [
    "## feature ensamble \n",
    "from sklearn.ensemble import ExtraTreesRegressor\n",
    "model = ExtraTreesRegressor()\n",
    "model.fit(X, y);"
   ]
  },
  {
   "cell_type": "code",
   "execution_count": 25,
   "metadata": {
    "scrolled": true
   },
   "outputs": [
    {
     "data": {
      "image/png": "[encoded data removed]",
      "text/plain": [
       "<Figure size 432x288 with 1 Axes>"
      ]
     },
     "metadata": {
      "needs_background": "light"
     },
     "output_type": "display_data"
    }
   ],
   "source": [
    "# for better visualization below is the graph\n",
    "feat_importances = pd.Series(model.feature_importances_, index = X.columns)\n",
    "feat_importances.nlargest(5).plot(kind = 'barh')\n",
    "plt.show()"
   ]
  },
  {
   "cell_type": "code",
   "execution_count": 28,
   "metadata": {},
   "outputs": [
    {
     "name": "stdout",
     "output_type": "stream",
     "text": [
      "LinregressResult(slope=-0.14029379464890238, intercept=132.83097872171302, rvalue=-0.08925627927011347, pvalue=0.001549980448121689, stderr=0.04422697914940152)\n"
     ]
    },
    {
     "data": {
      "image/png": "[encoded data removed]",
      "text/plain": [
       "<Figure size 432x288 with 1 Axes>"
      ]
     },
     "metadata": {
      "needs_background": "light"
     },
     "output_type": "display_data"
    },
    {
     "name": "stdout",
     "output_type": "stream",
     "text": [
      "LinregressResult(slope=-0.11954909471100965, intercept=131.84355071225565, rvalue=-0.04819662798841073, pvalue=0.08787722862609337, stderr=0.06999211231769181)\n"
     ]
    },
    {
     "data": {
      "image/png": "[encoded data removed]",
      "text/plain": [
       "<Figure size 432x288 with 1 Axes>"
      ]
     },
     "metadata": {
      "needs_background": "light"
     },
     "output_type": "display_data"
    },
    {
     "name": "stdout",
     "output_type": "stream",
     "text": [
      "LinregressResult(slope=-0.07815998621545636, intercept=135.0698804228223, rvalue=-0.11966169261744798, pvalue=2.135911406770228e-05, stderr=0.018319853948799324)\n"
     ]
    },
    {
     "data": {
      "image/png": "[encoded data removed]",
      "text/plain": [
       "<Figure size 432x288 with 1 Axes>"
      ]
     },
     "metadata": {
      "needs_background": "light"
     },
     "output_type": "display_data"
    },
    {
     "name": "stdout",
     "output_type": "stream",
     "text": [
      "LinregressResult(slope=-0.021594492627555684, intercept=131.8824027927116, rvalue=-0.040615543010312935, pvalue=0.15043264204280354, stderr=0.015007788421129948)\n"
     ]
    },
    {
     "data": {
      "image/png": "[encoded data removed]",
      "text/plain": [
       "<Figure size 432x288 with 1 Axes>"
      ]
     },
     "metadata": {
      "needs_background": "light"
     },
     "output_type": "display_data"
    },
    {
     "name": "stdout",
     "output_type": "stream",
     "text": [
      "LinregressResult(slope=0.07534100359195209, intercept=124.80313158424188, rvalue=0.07112050658732366, pvalue=0.011728991988040805, stderr=0.029851068335536267)\n"
     ]
    },
    {
     "data": {
      "image/png": "[encoded data removed]",
      "text/plain": [
       "<Figure size 432x288 with 1 Axes>"
      ]
     },
     "metadata": {
      "needs_background": "light"
     },
     "output_type": "display_data"
    },
    {
     "name": "stdout",
     "output_type": "stream",
     "text": [
      "LinregressResult(slope=0.6496919258610592, intercept=12.548235125687768, rvalue=0.6350372284334228, pvalue=1.1840355229445464e-142, stderr=0.022326510654298932)\n"
     ]
    },
    {
     "data": {
      "image/png": "[encoded data removed]",
      "text/plain": [
       "<Figure size 432x288 with 1 Axes>"
      ]
     },
     "metadata": {
      "needs_background": "light"
     },
     "output_type": "display_data"
    },
    {
     "name": "stdout",
     "output_type": "stream",
     "text": [
      "LinregressResult(slope=1.0, intercept=0.0, rvalue=1.0, pvalue=0.0, stderr=0.0)\n"
     ]
    },
    {
     "data": {
      "image/png": "[encoded data removed]",
      "text/plain": [
       "<Figure size 432x288 with 1 Axes>"
      ]
     },
     "metadata": {
      "needs_background": "light"
     },
     "output_type": "display_data"
    },
    {
     "name": "stdout",
     "output_type": "stream",
     "text": [
      "LinregressResult(slope=-9.137712972220852, intercept=145.09591482362188, rvalue=-0.1681718725149984, pvalue=2.041652848637238e-09, stderr=1.513138878181494)\n"
     ]
    },
    {
     "data": {
      "image/png": "[encoded data removed]",
      "text/plain": [
       "<Figure size 432x288 with 1 Axes>"
      ]
     },
     "metadata": {
      "needs_background": "light"
     },
     "output_type": "display_data"
    },
    {
     "name": "stdout",
     "output_type": "stream",
     "text": [
      "LinregressResult(slope=-6.946066216806323, intercept=141.07393577734214, rvalue=-0.11929371309132239, pvalue=2.2650221313573233e-05, stderr=1.6331775734383458)\n"
     ]
    },
    {
     "data": {
      "image/png": "[encoded data removed]",
      "text/plain": [
       "<Figure size 432x288 with 1 Axes>"
      ]
     },
     "metadata": {
      "needs_background": "light"
     },
     "output_type": "display_data"
    }
   ],
   "source": [
    "for feature in final_dataset:\n",
    "    data = final_dataset.copy()\n",
    "    ## capture the diffrence between YrSold and year of bulding\n",
    "#     data[feature] = data['YrSold'] - data[feature]\n",
    "    linout = stats.linregress(data[feature], data['BOIL-OFF Width'])\n",
    "    x_fit = np.linspace(np.min(data[feature]), np.max(data[feature]))\n",
    "    y_fit = x_fit*linout[0] + linout[1]\n",
    "    print(linout)\n",
    "    plt.scatter(data[feature], data['BOIL-OFF Width'])\n",
    "    plt.xlabel(feature)\n",
    "    plt.ylabel('BOIL-OFF Width')\n",
    "    plt.plot(x_fit, y_fit)\n",
    "    plt.show()"
   ]
  },
  {
   "cell_type": "code",
   "execution_count": 29,
   "metadata": {},
   "outputs": [
    {
     "data": {
      "image/png": "[encoded data removed]",
      "text/plain": [
       "<Figure size 432x288 with 1 Axes>"
      ]
     },
     "metadata": {
      "needs_background": "light"
     },
     "output_type": "display_data"
    },
    {
     "data": {
      "image/png": "[encoded data removed]",
      "text/plain": [
       "<Figure size 432x288 with 1 Axes>"
      ]
     },
     "metadata": {
      "needs_background": "light"
     },
     "output_type": "display_data"
    },
    {
     "data": {
      "image/png": "[encoded data removed]",
      "text/plain": [
       "<Figure size 432x288 with 1 Axes>"
      ]
     },
     "metadata": {
      "needs_background": "light"
     },
     "output_type": "display_data"
    },
    {
     "data": {
      "image/png": "[encoded data removed]",
      "text/plain": [
       "<Figure size 432x288 with 1 Axes>"
      ]
     },
     "metadata": {
      "needs_background": "light"
     },
     "output_type": "display_data"
    },
    {
     "data": {
      "image/png": "[encoded data removed]",
      "text/plain": [
       "<Figure size 432x288 with 1 Axes>"
      ]
     },
     "metadata": {
      "needs_background": "light"
     },
     "output_type": "display_data"
    },
    {
     "data": {
      "image/png": "[encoded data removed]",
      "text/plain": [
       "<Figure size 432x288 with 1 Axes>"
      ]
     },
     "metadata": {
      "needs_background": "light"
     },
     "output_type": "display_data"
    },
    {
     "data": {
      "image/png": "[encoded data removed]",
      "text/plain": [
       "<Figure size 432x288 with 1 Axes>"
      ]
     },
     "metadata": {
      "needs_background": "light"
     },
     "output_type": "display_data"
    },
    {
     "data": {
      "image/png": "[encoded data removed]",
      "text/plain": [
       "<Figure size 432x288 with 1 Axes>"
      ]
     },
     "metadata": {
      "needs_background": "light"
     },
     "output_type": "display_data"
    },
    {
     "data": {
      "image/png": "[encoded data removed]",
      "text/plain": [
       "<Figure size 432x288 with 1 Axes>"
      ]
     },
     "metadata": {
      "needs_background": "light"
     },
     "output_type": "display_data"
    }
   ],
   "source": [
    "for feature in final_dataset:\n",
    "    data = final_dataset.copy()\n",
    "    data.groupby(feature)['BOIL-OFF Width'].median().plot.bar()\n",
    "    plt.xlabel(feature)\n",
    "    plt.ylabel(\"BOIL-OFF Width\")\n",
    "    plt.title(feature)\n",
    "    plt.show()"
   ]
  },
  {
   "cell_type": "code",
   "execution_count": 27,
   "metadata": {},
   "outputs": [],
   "source": [
    "import numpy as np\n",
    "from scipy import stats"
   ]
  },
  {
   "cell_type": "code",
   "execution_count": 32,
   "metadata": {},
   "outputs": [],
   "source": [
    "from sklearn.model_selection import train_test_split\n",
    "X_train, X_test, y_train, y_test = train_test_split(X, y, test_size = 0.2)"
   ]
  },
  {
   "cell_type": "code",
   "execution_count": 33,
   "metadata": {},
   "outputs": [
    {
     "data": {
      "text/plain": [
       "(1004, 8)"
      ]
     },
     "execution_count": 33,
     "metadata": {},
     "output_type": "execute_result"
    }
   ],
   "source": [
    "X_train.shape"
   ]
  },
  {
   "cell_type": "code",
   "execution_count": 34,
   "metadata": {},
   "outputs": [
    {
     "data": {
      "text/plain": [
       "(251, 8)"
      ]
     },
     "execution_count": 34,
     "metadata": {},
     "output_type": "execute_result"
    }
   ],
   "source": [
    "X_test.shape"
   ]
  },
  {
   "cell_type": "code",
   "execution_count": 35,
   "metadata": {},
   "outputs": [
    {
     "data": {
      "text/plain": [
       "(1004,)"
      ]
     },
     "execution_count": 35,
     "metadata": {},
     "output_type": "execute_result"
    }
   ],
   "source": [
    "y_train.shape"
   ]
  },
  {
   "cell_type": "code",
   "execution_count": 36,
   "metadata": {},
   "outputs": [
    {
     "data": {
      "text/plain": [
       "(251,)"
      ]
     },
     "execution_count": 36,
     "metadata": {},
     "output_type": "execute_result"
    }
   ],
   "source": [
    "y_test.shape"
   ]
  },
  {
   "cell_type": "code",
   "execution_count": 37,
   "metadata": {},
   "outputs": [
    {
     "name": "stderr",
     "output_type": "stream",
     "text": [
      "Using TensorFlow backend.\n",
      "E:\\anaconda3\\lib\\site-packages\\tensorflow\\python\\framework\\dtypes.py:516: FutureWarning: Passing (type, 1) or '1type' as a synonym of type is deprecated; in a future version of numpy, it will be understood as (type, (1,)) / '(1,)type'.\n",
      "  _np_qint8 = np.dtype([(\"qint8\", np.int8, 1)])\n",
      "E:\\anaconda3\\lib\\site-packages\\tensorflow\\python\\framework\\dtypes.py:517: FutureWarning: Passing (type, 1) or '1type' as a synonym of type is deprecated; in a future version of numpy, it will be understood as (type, (1,)) / '(1,)type'.\n",
      "  _np_quint8 = np.dtype([(\"quint8\", np.uint8, 1)])\n",
      "E:\\anaconda3\\lib\\site-packages\\tensorflow\\python\\framework\\dtypes.py:518: FutureWarning: Passing (type, 1) or '1type' as a synonym of type is deprecated; in a future version of numpy, it will be understood as (type, (1,)) / '(1,)type'.\n",
      "  _np_qint16 = np.dtype([(\"qint16\", np.int16, 1)])\n",
      "E:\\anaconda3\\lib\\site-packages\\tensorflow\\python\\framework\\dtypes.py:519: FutureWarning: Passing (type, 1) or '1type' as a synonym of type is deprecated; in a future version of numpy, it will be understood as (type, (1,)) / '(1,)type'.\n",
      "  _np_quint16 = np.dtype([(\"quint16\", np.uint16, 1)])\n",
      "E:\\anaconda3\\lib\\site-packages\\tensorflow\\python\\framework\\dtypes.py:520: FutureWarning: Passing (type, 1) or '1type' as a synonym of type is deprecated; in a future version of numpy, it will be understood as (type, (1,)) / '(1,)type'.\n",
      "  _np_qint32 = np.dtype([(\"qint32\", np.int32, 1)])\n",
      "E:\\anaconda3\\lib\\site-packages\\tensorflow\\python\\framework\\dtypes.py:525: FutureWarning: Passing (type, 1) or '1type' as a synonym of type is deprecated; in a future version of numpy, it will be understood as (type, (1,)) / '(1,)type'.\n",
      "  np_resource = np.dtype([(\"resource\", np.ubyte, 1)])\n",
      "E:\\anaconda3\\lib\\site-packages\\tensorboard\\compat\\tensorflow_stub\\dtypes.py:541: FutureWarning: Passing (type, 1) or '1type' as a synonym of type is deprecated; in a future version of numpy, it will be understood as (type, (1,)) / '(1,)type'.\n",
      "  _np_qint8 = np.dtype([(\"qint8\", np.int8, 1)])\n",
      "E:\\anaconda3\\lib\\site-packages\\tensorboard\\compat\\tensorflow_stub\\dtypes.py:542: FutureWarning: Passing (type, 1) or '1type' as a synonym of type is deprecated; in a future version of numpy, it will be understood as (type, (1,)) / '(1,)type'.\n",
      "  _np_quint8 = np.dtype([(\"quint8\", np.uint8, 1)])\n",
      "E:\\anaconda3\\lib\\site-packages\\tensorboard\\compat\\tensorflow_stub\\dtypes.py:543: FutureWarning: Passing (type, 1) or '1type' as a synonym of type is deprecated; in a future version of numpy, it will be understood as (type, (1,)) / '(1,)type'.\n",
      "  _np_qint16 = np.dtype([(\"qint16\", np.int16, 1)])\n",
      "E:\\anaconda3\\lib\\site-packages\\tensorboard\\compat\\tensorflow_stub\\dtypes.py:544: FutureWarning: Passing (type, 1) or '1type' as a synonym of type is deprecated; in a future version of numpy, it will be understood as (type, (1,)) / '(1,)type'.\n",
      "  _np_quint16 = np.dtype([(\"quint16\", np.uint16, 1)])\n",
      "E:\\anaconda3\\lib\\site-packages\\tensorboard\\compat\\tensorflow_stub\\dtypes.py:545: FutureWarning: Passing (type, 1) or '1type' as a synonym of type is deprecated; in a future version of numpy, it will be understood as (type, (1,)) / '(1,)type'.\n",
      "  _np_qint32 = np.dtype([(\"qint32\", np.int32, 1)])\n",
      "E:\\anaconda3\\lib\\site-packages\\tensorboard\\compat\\tensorflow_stub\\dtypes.py:550: FutureWarning: Passing (type, 1) or '1type' as a synonym of type is deprecated; in a future version of numpy, it will be understood as (type, (1,)) / '(1,)type'.\n",
      "  np_resource = np.dtype([(\"resource\", np.ubyte, 1)])\n"
     ]
    }
   ],
   "source": [
    "import keras"
   ]
  },
  {
   "cell_type": "code",
   "execution_count": 38,
   "metadata": {},
   "outputs": [],
   "source": [
    "model = keras.Sequential()\n",
    "model.add(keras.layers.Dense(8, activation = 'relu', input_shape = (8,)))\n",
    "model.add(keras.layers.Dense(16, activation = 'relu'))\n",
    "model.add(keras.layers.Dense(16, activation = 'relu'))\n",
    "model.add(keras.layers.Dense(16, activation = 'relu'))\n",
    "model.add(keras.layers.Dense(1))\n",
    "\n",
    "model.compile(optimizer = 'adam', loss = 'mean_squared_error')"
   ]
  },
  {
   "cell_type": "code",
   "execution_count": 39,
   "metadata": {},
   "outputs": [
    {
     "name": "stdout",
     "output_type": "stream",
     "text": [
      "Model: \"sequential_1\"\n",
      "_________________________________________________________________\n",
      "Layer (type)                 Output Shape              Param #   \n",
      "=================================================================\n",
      "dense_1 (Dense)              (None, 8)                 72        \n",
      "_________________________________________________________________\n",
      "dense_2 (Dense)              (None, 16)                144       \n",
      "_________________________________________________________________\n",
      "dense_3 (Dense)              (None, 16)                272       \n",
      "_________________________________________________________________\n",
      "dense_4 (Dense)              (None, 16)                272       \n",
      "_________________________________________________________________\n",
      "dense_5 (Dense)              (None, 1)                 17        \n",
      "=================================================================\n",
      "Total params: 777\n",
      "Trainable params: 777\n",
      "Non-trainable params: 0\n",
      "_________________________________________________________________\n"
     ]
    }
   ],
   "source": [
    "model.summary()"
   ]
  },
  {
   "cell_type": "code",
   "execution_count": 40,
   "metadata": {},
   "outputs": [
    {
     "name": "stdout",
     "output_type": "stream",
     "text": [
      "WARNING:tensorflow:From E:\\anaconda3\\lib\\site-packages\\keras\\backend\\tensorflow_backend.py:422: The name tf.global_variables is deprecated. Please use tf.compat.v1.global_variables instead.\n",
      "\n",
      "Epoch 1/256\n",
      "1004/1004 [==============================] - 4s 4ms/step - loss: 23469.6622\n",
      "Epoch 2/256\n",
      " 608/1004 [=================>............] - ETA: 0s - loss: 12070.9638"
     ]
    },
    {
     "name": "stderr",
     "output_type": "stream",
     "text": [
      "E:\\anaconda3\\lib\\site-packages\\keras\\callbacks\\callbacks.py:846: RuntimeWarning: Early stopping conditioned on metric `val_loss` which is not available. Available metrics are: loss\n",
      "  (self.monitor, ','.join(list(logs.keys()))), RuntimeWarning\n"
     ]
    },
    {
     "name": "stdout",
     "output_type": "stream",
     "text": [
      "1004/1004 [==============================] - 0s 301us/step - loss: 9893.1068\n",
      "Epoch 3/256\n",
      "1004/1004 [==============================] - ETA: 0s - loss: 1432.95 - 0s 341us/step - loss: 1417.7621\n",
      "Epoch 4/256\n",
      "1004/1004 [==============================] - 0s 232us/step - loss: 149.7858\n",
      "Epoch 5/256\n",
      "1004/1004 [==============================] - 0s 233us/step - loss: 128.4568\n",
      "Epoch 6/256\n",
      "1004/1004 [==============================] - 0s 237us/step - loss: 123.5729\n",
      "Epoch 7/256\n",
      "1004/1004 [==============================] - 0s 270us/step - loss: 121.9287\n",
      "Epoch 8/256\n",
      "1004/1004 [==============================] - 0s 281us/step - loss: 119.6977\n",
      "Epoch 9/256\n",
      "1004/1004 [==============================] - 0s 228us/step - loss: 118.0424\n",
      "Epoch 10/256\n",
      "1004/1004 [==============================] - 0s 236us/step - loss: 116.6624\n",
      "Epoch 11/256\n",
      "1004/1004 [==============================] - 0s 232us/step - loss: 114.7046\n",
      "Epoch 12/256\n",
      "1004/1004 [==============================] - 0s 253us/step - loss: 112.7181\n",
      "Epoch 13/256\n",
      "1004/1004 [==============================] - 0s 279us/step - loss: 112.7055\n",
      "Epoch 14/256\n",
      "1004/1004 [==============================] - 0s 295us/step - loss: 110.5325\n",
      "Epoch 15/256\n",
      "1004/1004 [==============================] - 0s 317us/step - loss: 109.3581\n",
      "Epoch 16/256\n",
      "1004/1004 [==============================] - 0s 250us/step - loss: 108.7878\n",
      "Epoch 17/256\n",
      "1004/1004 [==============================] - 0s 279us/step - loss: 106.2514\n",
      "Epoch 18/256\n",
      "1004/1004 [==============================] - 0s 300us/step - loss: 104.2233\n",
      "Epoch 19/256\n",
      "1004/1004 [==============================] - 0s 302us/step - loss: 101.8085\n",
      "Epoch 20/256\n",
      "1004/1004 [==============================] - 0s 300us/step - loss: 100.6862\n",
      "Epoch 21/256\n",
      "1004/1004 [==============================] - 0s 295us/step - loss: 99.6602\n",
      "Epoch 22/256\n",
      "1004/1004 [==============================] - 0s 300us/step - loss: 98.4403\n",
      "Epoch 23/256\n",
      "1004/1004 [==============================] - 0s 303us/step - loss: 98.4069\n",
      "Epoch 24/256\n",
      "1004/1004 [==============================] - 0s 298us/step - loss: 99.1383\n",
      "Epoch 25/256\n",
      "1004/1004 [==============================] - 0s 304us/step - loss: 98.4146\n",
      "Epoch 26/256\n",
      "1004/1004 [==============================] - 0s 308us/step - loss: 97.3359\n",
      "Epoch 27/256\n",
      "1004/1004 [==============================] - 0s 301us/step - loss: 98.7196\n",
      "Epoch 28/256\n",
      "1004/1004 [==============================] - 0s 323us/step - loss: 96.52090s - los\n",
      "Epoch 29/256\n",
      "1004/1004 [==============================] - 0s 315us/step - loss: 97.4521\n",
      "Epoch 30/256\n",
      "1004/1004 [==============================] - 0s 254us/step - loss: 96.6280\n",
      "Epoch 31/256\n",
      "1004/1004 [==============================] - 0s 285us/step - loss: 96.8512\n",
      "Epoch 32/256\n",
      "1004/1004 [==============================] - 0s 303us/step - loss: 97.1825\n",
      "Epoch 33/256\n",
      "1004/1004 [==============================] - 0s 308us/step - loss: 96.1129\n",
      "Epoch 34/256\n",
      "1004/1004 [==============================] - 0s 296us/step - loss: 95.3195\n",
      "Epoch 35/256\n",
      "1004/1004 [==============================] - 0s 302us/step - loss: 95.0102\n",
      "Epoch 36/256\n",
      "1004/1004 [==============================] - 0s 305us/step - loss: 97.2738\n",
      "Epoch 37/256\n",
      "1004/1004 [==============================] - 0s 303us/step - loss: 94.9925\n",
      "Epoch 38/256\n",
      "1004/1004 [==============================] - 0s 301us/step - loss: 94.7542\n",
      "Epoch 39/256\n",
      "1004/1004 [==============================] - 0s 298us/step - loss: 94.3229\n",
      "Epoch 40/256\n",
      "1004/1004 [==============================] - 0s 304us/step - loss: 95.2609\n",
      "Epoch 41/256\n",
      "1004/1004 [==============================] - 0s 323us/step - loss: 93.9247\n",
      "Epoch 42/256\n",
      "1004/1004 [==============================] - 0s 298us/step - loss: 93.5591\n",
      "Epoch 43/256\n",
      "1004/1004 [==============================] - 0s 321us/step - loss: 93.3359\n",
      "Epoch 44/256\n",
      "1004/1004 [==============================] - 0s 291us/step - loss: 93.8187\n",
      "Epoch 45/256\n",
      "1004/1004 [==============================] - 0s 289us/step - loss: 93.6086\n",
      "Epoch 46/256\n",
      "1004/1004 [==============================] - 0s 307us/step - loss: 92.6382\n",
      "Epoch 47/256\n",
      "1004/1004 [==============================] - 0s 294us/step - loss: 93.1674\n",
      "Epoch 48/256\n",
      "1004/1004 [==============================] - 0s 290us/step - loss: 93.3076\n",
      "Epoch 49/256\n",
      "1004/1004 [==============================] - 0s 297us/step - loss: 92.3679\n",
      "Epoch 50/256\n",
      "1004/1004 [==============================] - 0s 310us/step - loss: 93.8380\n",
      "Epoch 51/256\n",
      "1004/1004 [==============================] - 0s 222us/step - loss: 91.8602\n",
      "Epoch 52/256\n",
      "1004/1004 [==============================] - 0s 274us/step - loss: 92.0766\n",
      "Epoch 53/256\n",
      "1004/1004 [==============================] - 0s 291us/step - loss: 94.8223\n",
      "Epoch 54/256\n",
      "1004/1004 [==============================] - 0s 304us/step - loss: 92.2569\n",
      "Epoch 55/256\n",
      "1004/1004 [==============================] - 0s 304us/step - loss: 91.8171\n",
      "Epoch 56/256\n",
      "1004/1004 [==============================] - 0s 315us/step - loss: 92.4715\n",
      "Epoch 57/256\n",
      "1004/1004 [==============================] - 0s 301us/step - loss: 90.8287\n",
      "Epoch 58/256\n",
      "1004/1004 [==============================] - 0s 303us/step - loss: 91.7748\n",
      "Epoch 59/256\n",
      "1004/1004 [==============================] - 0s 298us/step - loss: 91.1784\n",
      "Epoch 60/256\n",
      "1004/1004 [==============================] - 0s 315us/step - loss: 91.0179\n",
      "Epoch 61/256\n",
      "1004/1004 [==============================] - 0s 298us/step - loss: 91.9216\n",
      "Epoch 62/256\n",
      "1004/1004 [==============================] - 0s 307us/step - loss: 91.6239\n",
      "Epoch 63/256\n",
      "1004/1004 [==============================] - 0s 307us/step - loss: 89.2711\n",
      "Epoch 64/256\n",
      "1004/1004 [==============================] - 0s 301us/step - loss: 91.4231\n",
      "Epoch 65/256\n",
      "1004/1004 [==============================] - 0s 290us/step - loss: 90.6515\n",
      "Epoch 66/256\n",
      "1004/1004 [==============================] - 0s 261us/step - loss: 89.7479\n",
      "Epoch 67/256\n",
      "1004/1004 [==============================] - 0s 260us/step - loss: 89.5699\n",
      "Epoch 68/256\n",
      "1004/1004 [==============================] - 0s 278us/step - loss: 90.3277\n",
      "Epoch 69/256\n",
      "1004/1004 [==============================] - 0s 247us/step - loss: 90.0767\n",
      "Epoch 70/256\n",
      "1004/1004 [==============================] - 0s 268us/step - loss: 88.0131\n",
      "Epoch 71/256\n",
      "1004/1004 [==============================] - 0s 235us/step - loss: 89.9475\n",
      "Epoch 72/256\n",
      "1004/1004 [==============================] - 0s 233us/step - loss: 91.4597\n",
      "Epoch 73/256\n",
      "1004/1004 [==============================] - 0s 254us/step - loss: 92.9189\n",
      "Epoch 74/256\n",
      "1004/1004 [==============================] - 0s 244us/step - loss: 88.9224\n",
      "Epoch 75/256\n",
      "1004/1004 [==============================] - 0s 258us/step - loss: 89.7360\n",
      "Epoch 76/256\n",
      "1004/1004 [==============================] - 0s 242us/step - loss: 88.5506\n",
      "Epoch 77/256\n",
      "1004/1004 [==============================] - 0s 226us/step - loss: 88.1146\n",
      "Epoch 78/256\n",
      "1004/1004 [==============================] - 0s 218us/step - loss: 88.0147\n",
      "Epoch 79/256\n",
      "1004/1004 [==============================] - 0s 223us/step - loss: 88.24960s - loss: 9\n",
      "Epoch 80/256\n",
      "1004/1004 [==============================] - 0s 215us/step - loss: 87.7101\n",
      "Epoch 81/256\n",
      "1004/1004 [==============================] - 0s 263us/step - loss: 87.8644\n",
      "Epoch 82/256\n",
      "1004/1004 [==============================] - 0s 306us/step - loss: 87.4179\n",
      "Epoch 83/256\n",
      "1004/1004 [==============================] - 0s 319us/step - loss: 88.8072\n",
      "Epoch 84/256\n",
      "1004/1004 [==============================] - 0s 312us/step - loss: 89.6327\n",
      "Epoch 85/256\n",
      "1004/1004 [==============================] - 0s 301us/step - loss: 87.8556\n",
      "Epoch 86/256\n",
      "1004/1004 [==============================] - 0s 303us/step - loss: 89.8022\n",
      "Epoch 87/256\n",
      "1004/1004 [==============================] - 0s 321us/step - loss: 88.3559\n",
      "Epoch 88/256\n",
      "1004/1004 [==============================] - 0s 250us/step - loss: 89.9368\n",
      "Epoch 89/256\n",
      "1004/1004 [==============================] - 0s 239us/step - loss: 88.3034\n",
      "Epoch 90/256\n",
      "1004/1004 [==============================] - 0s 234us/step - loss: 90.7381\n",
      "Epoch 91/256\n",
      "1004/1004 [==============================] - 0s 231us/step - loss: 86.9403\n",
      "Epoch 92/256\n",
      "1004/1004 [==============================] - 0s 236us/step - loss: 85.7585\n",
      "Epoch 93/256\n",
      "1004/1004 [==============================] - 0s 231us/step - loss: 87.3523\n",
      "Epoch 94/256\n"
     ]
    },
    {
     "name": "stdout",
     "output_type": "stream",
     "text": [
      "1004/1004 [==============================] - 0s 239us/step - loss: 86.6276\n",
      "Epoch 95/256\n",
      "1004/1004 [==============================] - 0s 241us/step - loss: 86.7986\n",
      "Epoch 96/256\n",
      "1004/1004 [==============================] - 0s 256us/step - loss: 87.5217\n",
      "Epoch 97/256\n",
      "1004/1004 [==============================] - 0s 236us/step - loss: 85.0629\n",
      "Epoch 98/256\n",
      "1004/1004 [==============================] - 0s 248us/step - loss: 85.7514\n",
      "Epoch 99/256\n",
      "1004/1004 [==============================] - 0s 253us/step - loss: 85.7510\n",
      "Epoch 100/256\n",
      "1004/1004 [==============================] - 0s 243us/step - loss: 85.8103\n",
      "Epoch 101/256\n",
      "1004/1004 [==============================] - 0s 237us/step - loss: 85.7365\n",
      "Epoch 102/256\n",
      "1004/1004 [==============================] - 0s 247us/step - loss: 85.9957\n",
      "Epoch 103/256\n",
      "1004/1004 [==============================] - 0s 319us/step - loss: 86.0064\n",
      "Epoch 104/256\n",
      "1004/1004 [==============================] - 0s 242us/step - loss: 85.3811\n",
      "Epoch 105/256\n",
      "1004/1004 [==============================] - 0s 238us/step - loss: 84.6341\n",
      "Epoch 106/256\n",
      "1004/1004 [==============================] - 0s 224us/step - loss: 87.7753\n",
      "Epoch 107/256\n",
      "1004/1004 [==============================] - 0s 239us/step - loss: 85.8485\n",
      "Epoch 108/256\n",
      "1004/1004 [==============================] - 0s 280us/step - loss: 84.8251\n",
      "Epoch 109/256\n",
      "1004/1004 [==============================] - 0s 251us/step - loss: 86.0123\n",
      "Epoch 110/256\n",
      "1004/1004 [==============================] - 0s 294us/step - loss: 84.2805\n",
      "Epoch 111/256\n",
      "1004/1004 [==============================] - 0s 261us/step - loss: 86.5892\n",
      "Epoch 112/256\n",
      "1004/1004 [==============================] - 0s 239us/step - loss: 89.1099\n",
      "Epoch 113/256\n",
      "1004/1004 [==============================] - 0s 306us/step - loss: 86.9476\n",
      "Epoch 114/256\n",
      "1004/1004 [==============================] - 0s 297us/step - loss: 85.0380\n",
      "Epoch 115/256\n",
      "1004/1004 [==============================] - 0s 233us/step - loss: 84.3824\n",
      "Epoch 116/256\n",
      "1004/1004 [==============================] - 0s 240us/step - loss: 84.4984\n",
      "Epoch 117/256\n",
      "1004/1004 [==============================] - 0s 262us/step - loss: 85.0226\n",
      "Epoch 118/256\n",
      "1004/1004 [==============================] - 0s 313us/step - loss: 84.3234\n",
      "Epoch 119/256\n",
      "1004/1004 [==============================] - 0s 309us/step - loss: 85.8469\n",
      "Epoch 120/256\n",
      "1004/1004 [==============================] - 0s 284us/step - loss: 83.7468\n",
      "Epoch 121/256\n",
      "1004/1004 [==============================] - 0s 267us/step - loss: 84.6045\n",
      "Epoch 122/256\n",
      "1004/1004 [==============================] - 0s 240us/step - loss: 85.8024\n",
      "Epoch 123/256\n",
      "1004/1004 [==============================] - 0s 242us/step - loss: 87.6952\n",
      "Epoch 124/256\n",
      "1004/1004 [==============================] - 0s 231us/step - loss: 85.1976\n",
      "Epoch 125/256\n",
      "1004/1004 [==============================] - 0s 263us/step - loss: 84.2343\n",
      "Epoch 126/256\n",
      "1004/1004 [==============================] - 0s 247us/step - loss: 85.2215\n",
      "Epoch 127/256\n",
      "1004/1004 [==============================] - 0s 251us/step - loss: 83.4246\n",
      "Epoch 128/256\n",
      "1004/1004 [==============================] - 0s 267us/step - loss: 82.4578\n",
      "Epoch 129/256\n",
      "1004/1004 [==============================] - 0s 239us/step - loss: 85.1164\n",
      "Epoch 130/256\n",
      "1004/1004 [==============================] - 0s 255us/step - loss: 82.9016\n",
      "Epoch 131/256\n",
      "1004/1004 [==============================] - 0s 244us/step - loss: 83.6429\n",
      "Epoch 132/256\n",
      "1004/1004 [==============================] - 0s 231us/step - loss: 83.1110\n",
      "Epoch 133/256\n",
      "1004/1004 [==============================] - 0s 257us/step - loss: 82.4722\n",
      "Epoch 134/256\n",
      "1004/1004 [==============================] - 0s 252us/step - loss: 82.6013\n",
      "Epoch 135/256\n",
      "1004/1004 [==============================] - 0s 266us/step - loss: 82.6332\n",
      "Epoch 136/256\n",
      "1004/1004 [==============================] - 0s 255us/step - loss: 84.1126\n",
      "Epoch 137/256\n",
      "1004/1004 [==============================] - 0s 257us/step - loss: 83.4349\n",
      "Epoch 138/256\n",
      "1004/1004 [==============================] - 0s 251us/step - loss: 83.1661\n",
      "Epoch 139/256\n",
      "1004/1004 [==============================] - 0s 238us/step - loss: 82.2526\n",
      "Epoch 140/256\n",
      "1004/1004 [==============================] - 0s 276us/step - loss: 83.5812\n",
      "Epoch 141/256\n",
      "1004/1004 [==============================] - 0s 277us/step - loss: 82.1400\n",
      "Epoch 142/256\n",
      "1004/1004 [==============================] - 0s 243us/step - loss: 84.0476\n",
      "Epoch 143/256\n",
      "1004/1004 [==============================] - 0s 252us/step - loss: 81.9958\n",
      "Epoch 144/256\n",
      "1004/1004 [==============================] - 0s 256us/step - loss: 82.8539\n",
      "Epoch 145/256\n",
      "1004/1004 [==============================] - 0s 240us/step - loss: 80.9204\n",
      "Epoch 146/256\n",
      "1004/1004 [==============================] - 0s 232us/step - loss: 81.6602\n",
      "Epoch 147/256\n",
      "1004/1004 [==============================] - 0s 245us/step - loss: 81.5671\n",
      "Epoch 148/256\n",
      "1004/1004 [==============================] - 0s 284us/step - loss: 83.6799\n",
      "Epoch 149/256\n",
      "1004/1004 [==============================] - 0s 240us/step - loss: 82.8997\n",
      "Epoch 150/256\n",
      "1004/1004 [==============================] - 0s 231us/step - loss: 87.1696\n",
      "Epoch 151/256\n",
      "1004/1004 [==============================] - 0s 289us/step - loss: 82.3266\n",
      "Epoch 152/256\n",
      "1004/1004 [==============================] - 0s 248us/step - loss: 85.2615\n",
      "Epoch 153/256\n",
      "1004/1004 [==============================] - 0s 258us/step - loss: 82.9009\n",
      "Epoch 154/256\n",
      "1004/1004 [==============================] - 0s 268us/step - loss: 81.1811\n",
      "Epoch 155/256\n",
      "1004/1004 [==============================] - 0s 271us/step - loss: 81.9145\n",
      "Epoch 156/256\n",
      "1004/1004 [==============================] - 0s 256us/step - loss: 85.5598\n",
      "Epoch 157/256\n",
      "1004/1004 [==============================] - 0s 264us/step - loss: 80.9920\n",
      "Epoch 158/256\n",
      "1004/1004 [==============================] - 0s 249us/step - loss: 82.4497\n",
      "Epoch 159/256\n",
      "1004/1004 [==============================] - 0s 255us/step - loss: 81.7194\n",
      "Epoch 160/256\n",
      "1004/1004 [==============================] - 0s 300us/step - loss: 83.1004\n",
      "Epoch 161/256\n",
      "1004/1004 [==============================] - 0s 309us/step - loss: 81.8970\n",
      "Epoch 162/256\n",
      "1004/1004 [==============================] - 0s 316us/step - loss: 87.8181\n",
      "Epoch 163/256\n",
      "1004/1004 [==============================] - 0s 309us/step - loss: 89.4911\n",
      "Epoch 164/256\n",
      "1004/1004 [==============================] - 0s 288us/step - loss: 83.1046\n",
      "Epoch 165/256\n",
      "1004/1004 [==============================] - 0s 319us/step - loss: 82.5687\n",
      "Epoch 166/256\n",
      "1004/1004 [==============================] - 0s 302us/step - loss: 81.2577\n",
      "Epoch 167/256\n",
      "1004/1004 [==============================] - 0s 264us/step - loss: 82.6918\n",
      "Epoch 168/256\n",
      "1004/1004 [==============================] - 0s 299us/step - loss: 81.8129\n",
      "Epoch 169/256\n",
      "1004/1004 [==============================] - 0s 316us/step - loss: 81.5051\n",
      "Epoch 170/256\n",
      "1004/1004 [==============================] - 0s 305us/step - loss: 81.8416\n",
      "Epoch 171/256\n",
      "1004/1004 [==============================] - 0s 299us/step - loss: 80.1401\n",
      "Epoch 172/256\n",
      "1004/1004 [==============================] - 0s 271us/step - loss: 82.3528\n",
      "Epoch 173/256\n",
      "1004/1004 [==============================] - 0s 310us/step - loss: 81.3476\n",
      "Epoch 174/256\n",
      "1004/1004 [==============================] - 0s 309us/step - loss: 80.7542\n",
      "Epoch 175/256\n",
      "1004/1004 [==============================] - 0s 305us/step - loss: 81.0647\n",
      "Epoch 176/256\n",
      "1004/1004 [==============================] - 0s 306us/step - loss: 83.3186\n",
      "Epoch 177/256\n",
      "1004/1004 [==============================] - 0s 312us/step - loss: 82.8811\n",
      "Epoch 178/256\n",
      "1004/1004 [==============================] - 0s 312us/step - loss: 81.6226\n",
      "Epoch 179/256\n",
      "1004/1004 [==============================] - 0s 299us/step - loss: 84.3993\n",
      "Epoch 180/256\n",
      "1004/1004 [==============================] - 0s 313us/step - loss: 81.9890\n",
      "Epoch 181/256\n",
      "1004/1004 [==============================] - 0s 302us/step - loss: 81.6822\n",
      "Epoch 182/256\n",
      "1004/1004 [==============================] - 0s 306us/step - loss: 80.3020\n",
      "Epoch 183/256\n",
      "1004/1004 [==============================] - 0s 316us/step - loss: 81.8821\n",
      "Epoch 184/256\n",
      "1004/1004 [==============================] - 0s 298us/step - loss: 79.6115\n",
      "Epoch 185/256\n",
      "1004/1004 [==============================] - 0s 328us/step - loss: 80.0024\n",
      "Epoch 186/256\n"
     ]
    },
    {
     "name": "stdout",
     "output_type": "stream",
     "text": [
      "1004/1004 [==============================] - 0s 316us/step - loss: 83.9250\n",
      "Epoch 187/256\n",
      "1004/1004 [==============================] - 0s 315us/step - loss: 81.4984\n",
      "Epoch 188/256\n",
      "1004/1004 [==============================] - 0s 327us/step - loss: 81.5897\n",
      "Epoch 189/256\n",
      "1004/1004 [==============================] - 0s 315us/step - loss: 82.0480\n",
      "Epoch 190/256\n",
      "1004/1004 [==============================] - 0s 305us/step - loss: 79.8990\n",
      "Epoch 191/256\n",
      "1004/1004 [==============================] - 0s 316us/step - loss: 79.6255\n",
      "Epoch 192/256\n",
      "1004/1004 [==============================] - 0s 318us/step - loss: 78.8473\n",
      "Epoch 193/256\n",
      "1004/1004 [==============================] - 0s 313us/step - loss: 79.7267\n",
      "Epoch 194/256\n",
      "1004/1004 [==============================] - 0s 307us/step - loss: 79.8748\n",
      "Epoch 195/256\n",
      "1004/1004 [==============================] - 0s 304us/step - loss: 81.2518\n",
      "Epoch 196/256\n",
      "1004/1004 [==============================] - 0s 296us/step - loss: 82.2631\n",
      "Epoch 197/256\n",
      "1004/1004 [==============================] - 0s 330us/step - loss: 83.4110\n",
      "Epoch 198/256\n",
      "1004/1004 [==============================] - 0s 300us/step - loss: 81.0386\n",
      "Epoch 199/256\n",
      "1004/1004 [==============================] - 0s 298us/step - loss: 79.6800\n",
      "Epoch 200/256\n",
      "1004/1004 [==============================] - 0s 324us/step - loss: 81.2368\n",
      "Epoch 201/256\n",
      "1004/1004 [==============================] - 0s 296us/step - loss: 78.9172\n",
      "Epoch 202/256\n",
      "1004/1004 [==============================] - 0s 303us/step - loss: 81.5217\n",
      "Epoch 203/256\n",
      "1004/1004 [==============================] - 0s 302us/step - loss: 84.1433\n",
      "Epoch 204/256\n",
      "1004/1004 [==============================] - 0s 296us/step - loss: 83.0277\n",
      "Epoch 205/256\n",
      "1004/1004 [==============================] - 0s 292us/step - loss: 81.4567\n",
      "Epoch 206/256\n",
      "1004/1004 [==============================] - 0s 305us/step - loss: 88.5140\n",
      "Epoch 207/256\n",
      "1004/1004 [==============================] - 0s 300us/step - loss: 82.1877\n",
      "Epoch 208/256\n",
      "1004/1004 [==============================] - 0s 309us/step - loss: 80.2293\n",
      "Epoch 209/256\n",
      "1004/1004 [==============================] - 0s 291us/step - loss: 81.9977\n",
      "Epoch 210/256\n",
      "1004/1004 [==============================] - 0s 299us/step - loss: 80.3270\n",
      "Epoch 211/256\n",
      "1004/1004 [==============================] - 0s 298us/step - loss: 81.4216\n",
      "Epoch 212/256\n",
      "1004/1004 [==============================] - 0s 320us/step - loss: 79.6382\n",
      "Epoch 213/256\n",
      "1004/1004 [==============================] - 0s 262us/step - loss: 78.8134\n",
      "Epoch 214/256\n",
      "1004/1004 [==============================] - 0s 303us/step - loss: 85.8696\n",
      "Epoch 215/256\n",
      "1004/1004 [==============================] - 0s 351us/step - loss: 80.2110\n",
      "Epoch 216/256\n",
      "1004/1004 [==============================] - 0s 250us/step - loss: 79.6383\n",
      "Epoch 217/256\n",
      "1004/1004 [==============================] - 0s 269us/step - loss: 80.3164\n",
      "Epoch 218/256\n",
      "1004/1004 [==============================] - 0s 270us/step - loss: 82.0268\n",
      "Epoch 219/256\n",
      "1004/1004 [==============================] - 0s 282us/step - loss: 78.3738\n",
      "Epoch 220/256\n",
      "1004/1004 [==============================] - 0s 251us/step - loss: 84.2832\n",
      "Epoch 221/256\n",
      "1004/1004 [==============================] - 0s 247us/step - loss: 83.2184\n",
      "Epoch 222/256\n",
      "1004/1004 [==============================] - 0s 255us/step - loss: 80.2734\n",
      "Epoch 223/256\n",
      "1004/1004 [==============================] - 0s 273us/step - loss: 79.3070\n",
      "Epoch 224/256\n",
      "1004/1004 [==============================] - ETA: 0s - loss: 80.53 - 0s 240us/step - loss: 80.2466\n",
      "Epoch 225/256\n",
      "1004/1004 [==============================] - 0s 279us/step - loss: 79.2926\n",
      "Epoch 226/256\n",
      "1004/1004 [==============================] - 0s 312us/step - loss: 81.7551\n",
      "Epoch 227/256\n",
      "1004/1004 [==============================] - 0s 256us/step - loss: 77.9146\n",
      "Epoch 228/256\n",
      "1004/1004 [==============================] - 0s 264us/step - loss: 77.6582\n",
      "Epoch 229/256\n",
      "1004/1004 [==============================] - 0s 255us/step - loss: 79.3154\n",
      "Epoch 230/256\n",
      "1004/1004 [==============================] - 0s 255us/step - loss: 84.4857\n",
      "Epoch 231/256\n",
      "1004/1004 [==============================] - 0s 254us/step - loss: 78.7238\n",
      "Epoch 232/256\n",
      "1004/1004 [==============================] - 0s 248us/step - loss: 80.6536\n",
      "Epoch 233/256\n",
      "1004/1004 [==============================] - 0s 242us/step - loss: 81.1730\n",
      "Epoch 234/256\n",
      "1004/1004 [==============================] - 0s 255us/step - loss: 80.8016\n",
      "Epoch 235/256\n",
      "1004/1004 [==============================] - 0s 239us/step - loss: 79.1942\n",
      "Epoch 236/256\n",
      "1004/1004 [==============================] - 0s 244us/step - loss: 80.6613\n",
      "Epoch 237/256\n",
      "1004/1004 [==============================] - ETA: 0s - loss: 86.41 - 0s 290us/step - loss: 78.7318\n",
      "Epoch 238/256\n",
      "1004/1004 [==============================] - 0s 235us/step - loss: 80.3051\n",
      "Epoch 239/256\n",
      "1004/1004 [==============================] - 0s 241us/step - loss: 78.1092\n",
      "Epoch 240/256\n",
      "1004/1004 [==============================] - 0s 233us/step - loss: 78.0801\n",
      "Epoch 241/256\n",
      "1004/1004 [==============================] - 0s 239us/step - loss: 80.2938\n",
      "Epoch 242/256\n",
      "1004/1004 [==============================] - 0s 309us/step - loss: 79.4059\n",
      "Epoch 243/256\n",
      "1004/1004 [==============================] - 0s 308us/step - loss: 79.2679\n",
      "Epoch 244/256\n",
      "1004/1004 [==============================] - 0s 305us/step - loss: 80.0349\n",
      "Epoch 245/256\n",
      "1004/1004 [==============================] - 0s 301us/step - loss: 77.4108\n",
      "Epoch 246/256\n",
      "1004/1004 [==============================] - 0s 311us/step - loss: 77.8907\n",
      "Epoch 247/256\n",
      "1004/1004 [==============================] - 0s 295us/step - loss: 80.2964\n",
      "Epoch 248/256\n",
      "1004/1004 [==============================] - 0s 307us/step - loss: 80.0764\n",
      "Epoch 249/256\n",
      "1004/1004 [==============================] - 0s 299us/step - loss: 77.9666\n",
      "Epoch 250/256\n",
      "1004/1004 [==============================] - 0s 298us/step - loss: 80.3558\n",
      "Epoch 251/256\n",
      "1004/1004 [==============================] - 0s 302us/step - loss: 78.1068\n",
      "Epoch 252/256\n",
      "1004/1004 [==============================] - 0s 292us/step - loss: 77.2323\n",
      "Epoch 253/256\n",
      "1004/1004 [==============================] - 0s 308us/step - loss: 78.3174\n",
      "Epoch 254/256\n",
      "1004/1004 [==============================] - 0s 295us/step - loss: 78.4345\n",
      "Epoch 255/256\n",
      "1004/1004 [==============================] - 0s 317us/step - loss: 78.6615\n",
      "Epoch 256/256\n",
      "1004/1004 [==============================] - 0s 278us/step - loss: 79.2884\n"
     ]
    },
    {
     "data": {
      "text/plain": [
       "<keras.callbacks.callbacks.History at 0x1bebaa96cc8>"
      ]
     },
     "execution_count": 40,
     "metadata": {},
     "output_type": "execute_result"
    }
   ],
   "source": [
    "model.fit(X_train, y_train, epochs = 256, callbacks = [keras.callbacks.EarlyStopping(patience=5)])"
   ]
  },
  {
   "cell_type": "code",
   "execution_count": 41,
   "metadata": {},
   "outputs": [],
   "source": [
    "predictions = model.predict(X_test)"
   ]
  },
  {
   "cell_type": "code",
   "execution_count": 42,
   "metadata": {},
   "outputs": [
    {
     "data": {
      "text/plain": [
       "array([[122.439384],\n",
       "       [140.83998 ],\n",
       "       [135.07547 ],\n",
       "       [126.15346 ],\n",
       "       [141.80011 ],\n",
       "       [119.642075],\n",
       "       [131.27156 ],\n",
       "       [103.37747 ],\n",
       "       [140.65265 ],\n",
       "       [119.80126 ],\n",
       "       [120.49692 ],\n",
       "       [121.2328  ],\n",
       "       [113.03726 ],\n",
       "       [137.80644 ],\n",
       "       [136.32251 ],\n",
       "       [144.0268  ],\n",
       "       [140.16203 ],\n",
       "       [134.3125  ],\n",
       "       [113.88005 ],\n",
       "       [124.61392 ],\n",
       "       [128.42116 ],\n",
       "       [141.22908 ],\n",
       "       [141.0931  ],\n",
       "       [110.599625],\n",
       "       [129.7043  ],\n",
       "       [134.31204 ],\n",
       "       [115.8869  ],\n",
       "       [112.75133 ],\n",
       "       [149.80185 ],\n",
       "       [141.54515 ],\n",
       "       [126.91826 ],\n",
       "       [133.53738 ],\n",
       "       [127.73381 ],\n",
       "       [128.5711  ],\n",
       "       [135.07547 ],\n",
       "       [124.868904],\n",
       "       [119.165115],\n",
       "       [116.91984 ],\n",
       "       [143.25966 ],\n",
       "       [115.58198 ],\n",
       "       [131.97623 ],\n",
       "       [139.74123 ],\n",
       "       [133.7839  ],\n",
       "       [141.21083 ],\n",
       "       [134.9387  ],\n",
       "       [116.214874],\n",
       "       [145.83415 ],\n",
       "       [105.580246],\n",
       "       [140.83998 ],\n",
       "       [113.796295],\n",
       "       [145.80469 ],\n",
       "       [121.26522 ],\n",
       "       [128.89914 ],\n",
       "       [133.29063 ],\n",
       "       [126.28604 ],\n",
       "       [119.88844 ],\n",
       "       [141.80011 ],\n",
       "       [142.66481 ],\n",
       "       [141.68114 ],\n",
       "       [146.91025 ],\n",
       "       [140.34268 ],\n",
       "       [133.40007 ],\n",
       "       [124.157486],\n",
       "       [129.99294 ],\n",
       "       [137.0115  ],\n",
       "       [124.290245],\n",
       "       [122.439384],\n",
       "       [124.55897 ],\n",
       "       [116.9648  ],\n",
       "       [126.91826 ],\n",
       "       [129.27548 ],\n",
       "       [135.36836 ],\n",
       "       [127.83914 ],\n",
       "       [122.47087 ],\n",
       "       [130.8855  ],\n",
       "       [146.31233 ],\n",
       "       [133.27354 ],\n",
       "       [130.6306  ],\n",
       "       [125.42952 ],\n",
       "       [125.82101 ],\n",
       "       [137.80644 ],\n",
       "       [134.57002 ],\n",
       "       [122.671   ],\n",
       "       [130.85164 ],\n",
       "       [128.09142 ],\n",
       "       [122.33762 ],\n",
       "       [131.02089 ],\n",
       "       [154.97136 ],\n",
       "       [133.42741 ],\n",
       "       [131.88461 ],\n",
       "       [133.42741 ],\n",
       "       [116.91984 ],\n",
       "       [138.73671 ],\n",
       "       [138.32147 ],\n",
       "       [133.72035 ],\n",
       "       [131.30376 ],\n",
       "       [145.8083  ],\n",
       "       [109.88257 ],\n",
       "       [130.44305 ],\n",
       "       [138.15015 ],\n",
       "       [125.21919 ],\n",
       "       [131.15164 ],\n",
       "       [143.7841  ],\n",
       "       [141.80011 ],\n",
       "       [129.1612  ],\n",
       "       [149.79808 ],\n",
       "       [124.61906 ],\n",
       "       [140.34341 ],\n",
       "       [125.3587  ],\n",
       "       [140.78368 ],\n",
       "       [121.7263  ],\n",
       "       [116.9648  ],\n",
       "       [132.53441 ],\n",
       "       [105.580246],\n",
       "       [134.9387  ],\n",
       "       [129.94217 ],\n",
       "       [112.978905],\n",
       "       [125.39762 ],\n",
       "       [124.546196],\n",
       "       [ 94.11543 ],\n",
       "       [120.091064],\n",
       "       [134.40883 ],\n",
       "       [144.01228 ],\n",
       "       [135.07547 ],\n",
       "       [123.79767 ],\n",
       "       [131.61732 ],\n",
       "       [140.44908 ],\n",
       "       [131.7144  ],\n",
       "       [142.94765 ],\n",
       "       [131.99586 ],\n",
       "       [134.17145 ],\n",
       "       [123.46892 ],\n",
       "       [141.11249 ],\n",
       "       [147.16881 ],\n",
       "       [133.00233 ],\n",
       "       [134.3125  ],\n",
       "       [121.92032 ],\n",
       "       [127.842834],\n",
       "       [114.640335],\n",
       "       [138.42235 ],\n",
       "       [122.52854 ],\n",
       "       [114.77571 ],\n",
       "       [132.38318 ],\n",
       "       [118.10513 ],\n",
       "       [133.78503 ],\n",
       "       [140.38162 ],\n",
       "       [116.28646 ],\n",
       "       [127.85331 ],\n",
       "       [138.49263 ],\n",
       "       [134.17145 ],\n",
       "       [131.62584 ],\n",
       "       [138.742   ],\n",
       "       [134.30656 ],\n",
       "       [127.88358 ],\n",
       "       [118.39975 ],\n",
       "       [135.35521 ],\n",
       "       [118.447205],\n",
       "       [126.17303 ],\n",
       "       [135.86821 ],\n",
       "       [137.80644 ],\n",
       "       [134.6671  ],\n",
       "       [111.20143 ],\n",
       "       [130.56448 ],\n",
       "       [145.2306  ],\n",
       "       [115.81462 ],\n",
       "       [121.998245],\n",
       "       [117.017105],\n",
       "       [128.5757  ],\n",
       "       [ 93.94055 ],\n",
       "       [112.750786],\n",
       "       [122.96217 ],\n",
       "       [149.67665 ],\n",
       "       [143.75084 ],\n",
       "       [116.9648  ],\n",
       "       [138.79048 ],\n",
       "       [143.73094 ],\n",
       "       [145.53319 ],\n",
       "       [132.14796 ],\n",
       "       [130.80698 ],\n",
       "       [135.35521 ],\n",
       "       [128.15376 ],\n",
       "       [131.85112 ],\n",
       "       [112.993835],\n",
       "       [149.67665 ],\n",
       "       [140.66393 ],\n",
       "       [124.61392 ],\n",
       "       [140.47093 ],\n",
       "       [123.2668  ],\n",
       "       [126.575935],\n",
       "       [127.18169 ],\n",
       "       [120.44969 ],\n",
       "       [144.01228 ],\n",
       "       [106.69865 ],\n",
       "       [131.99654 ],\n",
       "       [112.750786],\n",
       "       [136.31578 ],\n",
       "       [121.26522 ],\n",
       "       [125.42238 ],\n",
       "       [126.21338 ],\n",
       "       [116.22716 ],\n",
       "       [121.7263  ],\n",
       "       [128.82155 ],\n",
       "       [122.00867 ],\n",
       "       [144.28868 ],\n",
       "       [144.52946 ],\n",
       "       [136.95375 ],\n",
       "       [143.72035 ],\n",
       "       [134.3125  ],\n",
       "       [121.09468 ],\n",
       "       [121.160995],\n",
       "       [121.693665],\n",
       "       [118.03346 ],\n",
       "       [126.21338 ],\n",
       "       [144.25826 ],\n",
       "       [149.0226  ],\n",
       "       [132.14796 ],\n",
       "       [149.67665 ],\n",
       "       [113.02032 ],\n",
       "       [119.9689  ],\n",
       "       [145.8083  ],\n",
       "       [133.51416 ],\n",
       "       [125.3587  ],\n",
       "       [142.86534 ],\n",
       "       [132.14796 ],\n",
       "       [135.41261 ],\n",
       "       [140.01553 ],\n",
       "       [131.28568 ],\n",
       "       [131.98747 ],\n",
       "       [133.78423 ],\n",
       "       [139.49825 ],\n",
       "       [120.52216 ],\n",
       "       [128.28139 ],\n",
       "       [120.091064],\n",
       "       [127.842834],\n",
       "       [139.8625  ],\n",
       "       [137.80644 ],\n",
       "       [134.90727 ],\n",
       "       [121.84952 ],\n",
       "       [134.13483 ],\n",
       "       [140.14641 ],\n",
       "       [128.26247 ],\n",
       "       [136.32251 ],\n",
       "       [125.678085],\n",
       "       [140.53294 ],\n",
       "       [117.64609 ],\n",
       "       [114.640335],\n",
       "       [112.75133 ],\n",
       "       [119.367165],\n",
       "       [136.72647 ],\n",
       "       [132.14796 ],\n",
       "       [139.3587  ]], dtype=float32)"
      ]
     },
     "execution_count": 42,
     "metadata": {},
     "output_type": "execute_result"
    }
   ],
   "source": [
    "predictions"
   ]
  },
  {
   "cell_type": "code",
   "execution_count": 43,
   "metadata": {},
   "outputs": [
    {
     "data": {
      "text/plain": [
       "<matplotlib.axes._subplots.AxesSubplot at 0x1bf3dae22c8>"
      ]
     },
     "execution_count": 43,
     "metadata": {},
     "output_type": "execute_result"
    },
    {
     "data": {
      "image/png": "[encoded data removed]",
      "text/plain": [
       "<Figure size 432x288 with 1 Axes>"
      ]
     },
     "metadata": {
      "needs_background": "light"
     },
     "output_type": "display_data"
    }
   ],
   "source": [
    "result = predictions.flatten()\n",
    "sns.distplot(y_test-result)"
   ]
  },
  {
   "cell_type": "code",
   "execution_count": 50,
   "metadata": {},
   "outputs": [
    {
     "data": {
      "text/plain": [
       "<matplotlib.collections.PathCollection at 0x1bf3dd4ba08>"
      ]
     },
     "execution_count": 50,
     "metadata": {},
     "output_type": "execute_result"
    },
    {
     "data": {
      "image/png": "[encoded data removed]",
      "text/plain": [
       "<Figure size 576x396 with 1 Axes>"
      ]
     },
     "metadata": {},
     "output_type": "display_data"
    }
   ],
   "source": [
    "plt.style.use('seaborn')\n",
    "plt.xlabel('Experimental Value')\n",
    "plt.ylabel('Predicted Value')\n",
    "x = np.arange(80, 180)\n",
    "y = x\n",
    "plt.plot(x, y)\n",
    "plt.scatter(y_test,result)"
   ]
  },
  {
   "cell_type": "code",
   "execution_count": 45,
   "metadata": {},
   "outputs": [],
   "source": [
    "from sklearn import metrics\n",
    "import numpy as np"
   ]
  },
  {
   "cell_type": "code",
   "execution_count": 48,
   "metadata": {},
   "outputs": [
    {
     "name": "stdout",
     "output_type": "stream",
     "text": [
      "Mean Absolute Error: 7.247467600301918\n",
      "Mean Standard Error: 106.12370532164529\n",
      "Root mean squared error: 10.301636050727344\n"
     ]
    }
   ],
   "source": [
    "# average deviation ofprediction from actual value\n",
    "print('Mean Absolute Error:', metrics.mean_absolute_error(y_test, result))\n",
    "\n",
    "# deviation from mean value\n",
    "print('Mean Standard Error:', metrics.mean_squared_error(y_test, result))\n",
    "\n",
    "# measure of how far the points from expected line are\n",
    "print('Root mean squared error:', np.sqrt(metrics.mean_squared_error(y_test, result)))"
   ]
  },
  {
   "cell_type": "code",
   "execution_count": 47,
   "metadata": {},
   "outputs": [],
   "source": [
    "import pickle\n",
    "# open a file, where you ant to store the data\n",
    "file = open('shrik_ann_model.pkl', 'wb')\n",
    "\n",
    "# dump information to that file\n",
    "pickle.dump(model, file)"
   ]
  },
  {
   "cell_type": "code",
   "execution_count": null,
   "metadata": {},
   "outputs": [],
   "source": []
  },
  {
   "cell_type": "code",
   "execution_count": null,
   "metadata": {},
   "outputs": [],
   "source": []
  }
 ],
 "metadata": {
  "kernelspec": {
   "display_name": "Python 3",
   "language": "python",
   "name": "python3"
  },
  "language_info": {
   "codemirror_mode": {
    "name": "ipython",
    "version": 3
   },
   "file_extension": ".py",
   "mimetype": "text/x-python",
   "name": "python",
   "nbconvert_exporter": "python",
   "pygments_lexer": "ipython3",
   "version": "3.7.6"
  }
 },
 "nbformat": 4,
 "nbformat_minor": 4
}
